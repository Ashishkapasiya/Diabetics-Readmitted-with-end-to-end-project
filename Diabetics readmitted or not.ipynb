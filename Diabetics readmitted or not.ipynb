{
 "cells": [
  {
   "cell_type": "markdown",
   "id": "b2592356",
   "metadata": {},
   "source": [
    "## Diabetes Readmission\n",
    "\n",
    "<img src = \"https://images.hindustantimes.com/img/2021/05/05/550x309/pjimage_-_2021-05-05T201914.985_1620226240294_1620226250832.jpg\">\n",
    "\n",
    "### Problem Statement: \n",
    "Build a model to predict if a diabetes patient will be readmitted in the hospital given information from his previous hospital admission.\n",
    "\n",
    "<b> Background:</b>\n",
    "\n",
    "It was reported that in 2011 more than 3.3 million patients were readmitted in the US within 30 days of being discharged, and they were associated with about $41 billion in hospital costs. The need for readmission indicates that inadequate care was provided to the patient at the time of first admission. The readmission rate has become an important metric measuring the overall quality of a hospital.\n",
    "\n",
    "Diabetes is the 7th leading cause of death and affects about 23.6 million people in the US. 1.4 million Americans are diagnosed with diabetes every year. Hospital readmission being a major concern in diabetes care, over 250 million dollars was spent on treatment of readmitted diabetic patients in 2011. Early identification of patients facing a high risk of readmission can enable healthcare providers to conduct additional investigations and possibly prevent future readmissions.\n",
    "\n",
    "<b>Dataset Description:</b>\n",
    "\n",
    "The dataset represents 10 years (1999-2008) of clinical care at 130 US hospitals and integrated delivery networks. It includes 50 features representing 101766 diabetes patient and hospital outcomes. Information was extracted from the database for encounters that satisfied the following criteria:\n",
    "\n",
    "1. It is an inpatient encounter (a hospital admission).\n",
    "2. It is a diabetic encounter, that is, one during which any kind of diabetes was entered to the system as a diagnosis.\n",
    "3. The length of stay was at least 1 day and at most 14 days.\n",
    "4. Laboratory tests were performed during the encounter.\n",
    "5. Medications were administered during the encounter.\n",
    "\n",
    "The data contains such attributes as patient number, race, gender, age, admission type, time in hospital, medical specialty of admitting physician, number of lab test performed, HbA1c test result, diagnosis, number of medication, diabetic medications, number of outpatient, inpatient, and emergency visits in the year before the hospitalization, etc.\n",
    "\n",
    "<b>Source:</b>\n",
    "\n",
    "The data are submitted on behalf of the Center for Clinical and Translational Research, Virginia Commonwealth University, a recipient of NIH CTSA grant UL1 TR00058 and a recipient of the CERNER data. John Clore (jclore '@' vcu.edu), Krzysztof J. Cios (kcios '@' vcu.edu), Jon DeShazo (jpdeshazo '@' vcu.edu), and Beata Strack (strackb '@' vcu.edu). This data is a de-identified abstract of the Health Facts database (Cerner Corporation, Kansas City, MO).\n",
    "\n",
    "<b>Source of Data:</b> https://archive.ics.uci.edu/ml/datasets/Diabetes+130-US+hospitals+for+years+1999-2008 \n",
    "\n",
    "<b>Variable Description:</b>\n",
    "\n",
    "<b>1. Encounter ID:</b> Unique identifier of an encounter\n",
    "\n",
    "<b>2. Patient number:</b> Unique identifier of a patient\n",
    "\n",
    "<b>3. Race Values:</b> Caucasian, Asian, African American, Hispanic, and other\n",
    "\n",
    "<b>4. Gender Values:</b> male, female, and unknown/invalid\n",
    "\n",
    "<b>5. Age:</b> Grouped in 10-year intervals: 0, 10), 10, 20), …, 90, 100)\n",
    "\n",
    "<b>6. Weight:</b> Weight in pounds\n",
    "\n",
    "<b>7. Admission Type ID:</b> Integer identifier corresponding to 9 distinct values, for example, emergency, urgent, elective, newborn, and not available\n",
    "\n",
    "<b>8. Discharge Disposition ID:</b> Integer identifier corresponding to 29 distinct values, for example, discharged to home, expired, and not available\n",
    "\n",
    "<b>9. Admission Source ID:</b> Integer identifier corresponding to 21 distinct values, for example, physician referral, emergency room, and transfer from a hospital\n",
    "\n",
    "<b>10. Time in hospital:</b> Integer number of days between admission and discharge\n",
    "\n",
    "<b>11. Payer code:</b> Integer identifier corresponding to 23 distinct values, for example, Blue Cross/Blue Shield, Medicare, and self-pay Medical\n",
    "\n",
    "<b>12. Medical specialty:</b> Integer identifier of a specialty of the admitting physician, corresponding to 84 distinct values, for example, cardiology, internal medicine, family/general practice, and surgeon\n",
    "\n",
    "<b>13. Number of lab procedures:</b> Number of lab tests performed during the encounter\n",
    "\n",
    "<b>14. Number of procedures:</b> Numeric Number of procedures (other than lab tests) performed during the encounter\n",
    "\n",
    "<b>15. Number of medications:</b> Number of distinct generic names administered during the encounter\n",
    "\n",
    "<b>16. Number of outpatient visits:</b> Number of outpatient visits of the patient in the year preceding the encounter\n",
    "\n",
    "<b>17. Number of emergency visits:</b> Number of emergency visits of the patient in the year preceding the encounter\n",
    "\n",
    "<b>18. Number of inpatient visits:</b> Number of inpatient visits of the patient in the year preceding the encounter\n",
    "\n",
    "<b>19. Number of diagnoses:</b> Number of diagnoses entered to the system 0%\n",
    "\n",
    "<b>20. Glucose serum test:</b> result Indicates the range of the result or if the test was not taken. Values: “>200,” “>300,” “normal,” and “none” if not measured\n",
    "\n",
    "<b>21. A1c test result:</b> Indicates the range of the result or if the test was not taken. Values: “>8” if the result was greater than 8%, “>7” if the result was greater than 7% but less than 8%, “normal” if the result was less than 7%, and “none” if not measured.\n",
    "\n",
    "<b>22. Change of medications:</b> Indicates if there was a change in diabetic medications (either dosage or generic name). Values: “change” and “no change”\n",
    "\n",
    "<b>23. Diabetes medications:</b> Indicates if there was any diabetic medication prescribed. Values: “yes” and “no” 24 features for medications For the generic names: metformin, repaglinide, nateglinide, chlorpropamide, glimepiride, acetohexamide, glipizide, glyburide, tolbutamide, pioglitazone, rosiglitazone, acarbose, miglitol, troglitazone, tolazamide, examide, sitagliptin, insulin, glyburide-metformin, glipizide-metformin, glimepiride- pioglitazone, metformin-rosiglitazone, and metformin- pioglitazone, the feature indicates whether the drug was prescribed or there was a change in the dosage. Values: “up” if the dosage was increased during the encounter, “down” if the dosage was decreased, “steady” if the dosage did not change, and “no” if the drug was not prescribed\n",
    "\n",
    "<b>24. Readmitted:</b> Indicates if a patient has been readmitted to the hospital. 0 indicates \"No Readmission\" and 1 indicates \"Readmission\".\n",
    "\n",
    "The following 23 features indicate changes in dosage of 23 distinct medications: \n",
    "- 'metformin' \n",
    "- 'repaglinide' \n",
    "- 'nateglinide' \n",
    "- 'chlorpropamide' \n",
    "- 'glimepiride'\n",
    "- 'acetohexamide' \n",
    "- 'glipizide' \n",
    "- 'glyburide' \n",
    "- 'tolbutamide' \n",
    "- 'pioglitazone' \n",
    "- 'rosiglitazone' \n",
    "- 'acarbose' \n",
    "- 'miglitol' \n",
    "- 'troglitazone' \n",
    "- 'tolazamide' \n",
    "- 'examide' \n",
    "- 'citoglipton' \n",
    "- 'insulin' \n",
    "- 'glyburide-metformin' \n",
    "- 'glipizide-metformin' \n",
    "- 'glimepiride-pioglitazone' \n",
    "- 'metformin-rosiglitazone' \n",
    "- 'metformin-pioglitazone' "
   ]
  },
  {
   "cell_type": "markdown",
   "id": "f8318523",
   "metadata": {},
   "source": [
    "<b> Load Libraries </b>"
   ]
  },
  {
   "cell_type": "code",
   "execution_count": 1,
   "id": "91b17c01",
   "metadata": {},
   "outputs": [
    {
     "name": "stdout",
     "output_type": "stream",
     "text": [
      "Libraries loaded successfully!!!\n"
     ]
    }
   ],
   "source": [
    "import pandas as pd\n",
    "import numpy as np\n",
    "\n",
    "import matplotlib.pyplot as plt\n",
    "import seaborn as sns\n",
    "\n",
    "import os\n",
    "\n",
    "import warnings\n",
    "\n",
    "%matplotlib inline\n",
    "warnings.filterwarnings(\"ignore\")\n",
    "pd.set_option('display.max_columns',50)\n",
    "\n",
    "print(\"Libraries loaded successfully!!!\")"
   ]
  },
  {
   "cell_type": "markdown",
   "id": "efa03494",
   "metadata": {},
   "source": [
    "<b>Load Dataset </b>"
   ]
  },
  {
   "cell_type": "code",
   "execution_count": 2,
   "id": "9cb6aab7",
   "metadata": {},
   "outputs": [],
   "source": [
    "mapdata = pd.read_csv('diabetic_data_IDs_mapping.csv')\n",
    "traindata =  pd.read_csv('diabetic_data_target.csv')\n",
    "newdata =  pd.read_csv('new_data.csv')"
   ]
  },
  {
   "cell_type": "code",
   "execution_count": 3,
   "id": "9a72c127",
   "metadata": {},
   "outputs": [
    {
     "data": {
      "text/html": [
       "<div>\n",
       "<style scoped>\n",
       "    .dataframe tbody tr th:only-of-type {\n",
       "        vertical-align: middle;\n",
       "    }\n",
       "\n",
       "    .dataframe tbody tr th {\n",
       "        vertical-align: top;\n",
       "    }\n",
       "\n",
       "    .dataframe thead th {\n",
       "        text-align: right;\n",
       "    }\n",
       "</style>\n",
       "<table border=\"1\" class=\"dataframe\">\n",
       "  <thead>\n",
       "    <tr style=\"text-align: right;\">\n",
       "      <th></th>\n",
       "      <th>admission_type_id</th>\n",
       "      <th>description</th>\n",
       "    </tr>\n",
       "  </thead>\n",
       "  <tbody>\n",
       "    <tr>\n",
       "      <th>0</th>\n",
       "      <td>1</td>\n",
       "      <td>Emergency</td>\n",
       "    </tr>\n",
       "    <tr>\n",
       "      <th>1</th>\n",
       "      <td>2</td>\n",
       "      <td>Urgent</td>\n",
       "    </tr>\n",
       "    <tr>\n",
       "      <th>2</th>\n",
       "      <td>3</td>\n",
       "      <td>Elective</td>\n",
       "    </tr>\n",
       "    <tr>\n",
       "      <th>3</th>\n",
       "      <td>4</td>\n",
       "      <td>Newborn</td>\n",
       "    </tr>\n",
       "    <tr>\n",
       "      <th>4</th>\n",
       "      <td>5</td>\n",
       "      <td>Not Available</td>\n",
       "    </tr>\n",
       "  </tbody>\n",
       "</table>\n",
       "</div>"
      ],
      "text/plain": [
       "  admission_type_id    description\n",
       "0                 1      Emergency\n",
       "1                 2         Urgent\n",
       "2                 3       Elective\n",
       "3                 4        Newborn\n",
       "4                 5  Not Available"
      ]
     },
     "execution_count": 3,
     "metadata": {},
     "output_type": "execute_result"
    }
   ],
   "source": [
    "mapdata.head()"
   ]
  },
  {
   "cell_type": "code",
   "execution_count": 4,
   "id": "965717b1",
   "metadata": {},
   "outputs": [
    {
     "data": {
      "text/html": [
       "<div>\n",
       "<style scoped>\n",
       "    .dataframe tbody tr th:only-of-type {\n",
       "        vertical-align: middle;\n",
       "    }\n",
       "\n",
       "    .dataframe tbody tr th {\n",
       "        vertical-align: top;\n",
       "    }\n",
       "\n",
       "    .dataframe thead th {\n",
       "        text-align: right;\n",
       "    }\n",
       "</style>\n",
       "<table border=\"1\" class=\"dataframe\">\n",
       "  <thead>\n",
       "    <tr style=\"text-align: right;\">\n",
       "      <th></th>\n",
       "      <th>encounter_id</th>\n",
       "      <th>patient_nbr</th>\n",
       "      <th>race</th>\n",
       "      <th>gender</th>\n",
       "      <th>age</th>\n",
       "      <th>weight</th>\n",
       "      <th>admission_type_id</th>\n",
       "      <th>discharge_disposition_id</th>\n",
       "      <th>admission_source_id</th>\n",
       "      <th>time_in_hospital</th>\n",
       "      <th>payer_code</th>\n",
       "      <th>medical_specialty</th>\n",
       "      <th>num_lab_procedures</th>\n",
       "      <th>num_procedures</th>\n",
       "      <th>num_medications</th>\n",
       "      <th>number_outpatient</th>\n",
       "      <th>number_emergency</th>\n",
       "      <th>number_inpatient</th>\n",
       "      <th>number_diagnoses</th>\n",
       "      <th>max_glu_serum</th>\n",
       "      <th>A1Cresult</th>\n",
       "      <th>metformin</th>\n",
       "      <th>repaglinide</th>\n",
       "      <th>nateglinide</th>\n",
       "      <th>chlorpropamide</th>\n",
       "      <th>glimepiride</th>\n",
       "      <th>acetohexamide</th>\n",
       "      <th>glipizide</th>\n",
       "      <th>glyburide</th>\n",
       "      <th>tolbutamide</th>\n",
       "      <th>pioglitazone</th>\n",
       "      <th>rosiglitazone</th>\n",
       "      <th>acarbose</th>\n",
       "      <th>miglitol</th>\n",
       "      <th>troglitazone</th>\n",
       "      <th>tolazamide</th>\n",
       "      <th>examide</th>\n",
       "      <th>citoglipton</th>\n",
       "      <th>insulin</th>\n",
       "      <th>glyburide-metformin</th>\n",
       "      <th>glipizide-metformin</th>\n",
       "      <th>glimepiride-pioglitazone</th>\n",
       "      <th>metformin-rosiglitazone</th>\n",
       "      <th>metformin-pioglitazone</th>\n",
       "      <th>change</th>\n",
       "      <th>diabetesMed</th>\n",
       "      <th>readmitted</th>\n",
       "    </tr>\n",
       "  </thead>\n",
       "  <tbody>\n",
       "    <tr>\n",
       "      <th>0</th>\n",
       "      <td>2278392</td>\n",
       "      <td>8222157</td>\n",
       "      <td>Caucasian</td>\n",
       "      <td>Female</td>\n",
       "      <td>[0-10)</td>\n",
       "      <td>?</td>\n",
       "      <td>6</td>\n",
       "      <td>25</td>\n",
       "      <td>1</td>\n",
       "      <td>1</td>\n",
       "      <td>?</td>\n",
       "      <td>Pediatrics-Endocrinology</td>\n",
       "      <td>41</td>\n",
       "      <td>0</td>\n",
       "      <td>1</td>\n",
       "      <td>0</td>\n",
       "      <td>0</td>\n",
       "      <td>0</td>\n",
       "      <td>1</td>\n",
       "      <td>None</td>\n",
       "      <td>None</td>\n",
       "      <td>No</td>\n",
       "      <td>No</td>\n",
       "      <td>No</td>\n",
       "      <td>No</td>\n",
       "      <td>No</td>\n",
       "      <td>No</td>\n",
       "      <td>No</td>\n",
       "      <td>No</td>\n",
       "      <td>No</td>\n",
       "      <td>No</td>\n",
       "      <td>No</td>\n",
       "      <td>No</td>\n",
       "      <td>No</td>\n",
       "      <td>No</td>\n",
       "      <td>No</td>\n",
       "      <td>No</td>\n",
       "      <td>No</td>\n",
       "      <td>No</td>\n",
       "      <td>No</td>\n",
       "      <td>No</td>\n",
       "      <td>No</td>\n",
       "      <td>No</td>\n",
       "      <td>No</td>\n",
       "      <td>No</td>\n",
       "      <td>No</td>\n",
       "      <td>0</td>\n",
       "    </tr>\n",
       "    <tr>\n",
       "      <th>1</th>\n",
       "      <td>149190</td>\n",
       "      <td>55629189</td>\n",
       "      <td>Caucasian</td>\n",
       "      <td>Female</td>\n",
       "      <td>[10-20)</td>\n",
       "      <td>?</td>\n",
       "      <td>1</td>\n",
       "      <td>1</td>\n",
       "      <td>7</td>\n",
       "      <td>3</td>\n",
       "      <td>?</td>\n",
       "      <td>?</td>\n",
       "      <td>59</td>\n",
       "      <td>0</td>\n",
       "      <td>18</td>\n",
       "      <td>0</td>\n",
       "      <td>0</td>\n",
       "      <td>0</td>\n",
       "      <td>9</td>\n",
       "      <td>None</td>\n",
       "      <td>None</td>\n",
       "      <td>No</td>\n",
       "      <td>No</td>\n",
       "      <td>No</td>\n",
       "      <td>No</td>\n",
       "      <td>No</td>\n",
       "      <td>No</td>\n",
       "      <td>No</td>\n",
       "      <td>No</td>\n",
       "      <td>No</td>\n",
       "      <td>No</td>\n",
       "      <td>No</td>\n",
       "      <td>No</td>\n",
       "      <td>No</td>\n",
       "      <td>No</td>\n",
       "      <td>No</td>\n",
       "      <td>No</td>\n",
       "      <td>No</td>\n",
       "      <td>Up</td>\n",
       "      <td>No</td>\n",
       "      <td>No</td>\n",
       "      <td>No</td>\n",
       "      <td>No</td>\n",
       "      <td>No</td>\n",
       "      <td>Ch</td>\n",
       "      <td>Yes</td>\n",
       "      <td>1</td>\n",
       "    </tr>\n",
       "    <tr>\n",
       "      <th>2</th>\n",
       "      <td>64410</td>\n",
       "      <td>86047875</td>\n",
       "      <td>AfricanAmerican</td>\n",
       "      <td>Female</td>\n",
       "      <td>[20-30)</td>\n",
       "      <td>?</td>\n",
       "      <td>1</td>\n",
       "      <td>1</td>\n",
       "      <td>7</td>\n",
       "      <td>2</td>\n",
       "      <td>?</td>\n",
       "      <td>?</td>\n",
       "      <td>11</td>\n",
       "      <td>5</td>\n",
       "      <td>13</td>\n",
       "      <td>2</td>\n",
       "      <td>0</td>\n",
       "      <td>1</td>\n",
       "      <td>6</td>\n",
       "      <td>None</td>\n",
       "      <td>None</td>\n",
       "      <td>No</td>\n",
       "      <td>No</td>\n",
       "      <td>No</td>\n",
       "      <td>No</td>\n",
       "      <td>No</td>\n",
       "      <td>No</td>\n",
       "      <td>Steady</td>\n",
       "      <td>No</td>\n",
       "      <td>No</td>\n",
       "      <td>No</td>\n",
       "      <td>No</td>\n",
       "      <td>No</td>\n",
       "      <td>No</td>\n",
       "      <td>No</td>\n",
       "      <td>No</td>\n",
       "      <td>No</td>\n",
       "      <td>No</td>\n",
       "      <td>No</td>\n",
       "      <td>No</td>\n",
       "      <td>No</td>\n",
       "      <td>No</td>\n",
       "      <td>No</td>\n",
       "      <td>No</td>\n",
       "      <td>No</td>\n",
       "      <td>Yes</td>\n",
       "      <td>0</td>\n",
       "    </tr>\n",
       "    <tr>\n",
       "      <th>3</th>\n",
       "      <td>500364</td>\n",
       "      <td>82442376</td>\n",
       "      <td>Caucasian</td>\n",
       "      <td>Male</td>\n",
       "      <td>[30-40)</td>\n",
       "      <td>?</td>\n",
       "      <td>1</td>\n",
       "      <td>1</td>\n",
       "      <td>7</td>\n",
       "      <td>2</td>\n",
       "      <td>?</td>\n",
       "      <td>?</td>\n",
       "      <td>44</td>\n",
       "      <td>1</td>\n",
       "      <td>16</td>\n",
       "      <td>0</td>\n",
       "      <td>0</td>\n",
       "      <td>0</td>\n",
       "      <td>7</td>\n",
       "      <td>None</td>\n",
       "      <td>None</td>\n",
       "      <td>No</td>\n",
       "      <td>No</td>\n",
       "      <td>No</td>\n",
       "      <td>No</td>\n",
       "      <td>No</td>\n",
       "      <td>No</td>\n",
       "      <td>No</td>\n",
       "      <td>No</td>\n",
       "      <td>No</td>\n",
       "      <td>No</td>\n",
       "      <td>No</td>\n",
       "      <td>No</td>\n",
       "      <td>No</td>\n",
       "      <td>No</td>\n",
       "      <td>No</td>\n",
       "      <td>No</td>\n",
       "      <td>No</td>\n",
       "      <td>Up</td>\n",
       "      <td>No</td>\n",
       "      <td>No</td>\n",
       "      <td>No</td>\n",
       "      <td>No</td>\n",
       "      <td>No</td>\n",
       "      <td>Ch</td>\n",
       "      <td>Yes</td>\n",
       "      <td>0</td>\n",
       "    </tr>\n",
       "    <tr>\n",
       "      <th>4</th>\n",
       "      <td>16680</td>\n",
       "      <td>42519267</td>\n",
       "      <td>Caucasian</td>\n",
       "      <td>Male</td>\n",
       "      <td>[40-50)</td>\n",
       "      <td>?</td>\n",
       "      <td>1</td>\n",
       "      <td>1</td>\n",
       "      <td>7</td>\n",
       "      <td>1</td>\n",
       "      <td>?</td>\n",
       "      <td>?</td>\n",
       "      <td>51</td>\n",
       "      <td>0</td>\n",
       "      <td>8</td>\n",
       "      <td>0</td>\n",
       "      <td>0</td>\n",
       "      <td>0</td>\n",
       "      <td>5</td>\n",
       "      <td>None</td>\n",
       "      <td>None</td>\n",
       "      <td>No</td>\n",
       "      <td>No</td>\n",
       "      <td>No</td>\n",
       "      <td>No</td>\n",
       "      <td>No</td>\n",
       "      <td>No</td>\n",
       "      <td>Steady</td>\n",
       "      <td>No</td>\n",
       "      <td>No</td>\n",
       "      <td>No</td>\n",
       "      <td>No</td>\n",
       "      <td>No</td>\n",
       "      <td>No</td>\n",
       "      <td>No</td>\n",
       "      <td>No</td>\n",
       "      <td>No</td>\n",
       "      <td>No</td>\n",
       "      <td>Steady</td>\n",
       "      <td>No</td>\n",
       "      <td>No</td>\n",
       "      <td>No</td>\n",
       "      <td>No</td>\n",
       "      <td>No</td>\n",
       "      <td>Ch</td>\n",
       "      <td>Yes</td>\n",
       "      <td>0</td>\n",
       "    </tr>\n",
       "  </tbody>\n",
       "</table>\n",
       "</div>"
      ],
      "text/plain": [
       "   encounter_id  patient_nbr             race  gender      age weight  \\\n",
       "0       2278392      8222157        Caucasian  Female   [0-10)      ?   \n",
       "1        149190     55629189        Caucasian  Female  [10-20)      ?   \n",
       "2         64410     86047875  AfricanAmerican  Female  [20-30)      ?   \n",
       "3        500364     82442376        Caucasian    Male  [30-40)      ?   \n",
       "4         16680     42519267        Caucasian    Male  [40-50)      ?   \n",
       "\n",
       "   admission_type_id  discharge_disposition_id  admission_source_id  \\\n",
       "0                  6                        25                    1   \n",
       "1                  1                         1                    7   \n",
       "2                  1                         1                    7   \n",
       "3                  1                         1                    7   \n",
       "4                  1                         1                    7   \n",
       "\n",
       "   time_in_hospital payer_code         medical_specialty  num_lab_procedures  \\\n",
       "0                 1          ?  Pediatrics-Endocrinology                  41   \n",
       "1                 3          ?                         ?                  59   \n",
       "2                 2          ?                         ?                  11   \n",
       "3                 2          ?                         ?                  44   \n",
       "4                 1          ?                         ?                  51   \n",
       "\n",
       "   num_procedures  num_medications  number_outpatient  number_emergency  \\\n",
       "0               0                1                  0                 0   \n",
       "1               0               18                  0                 0   \n",
       "2               5               13                  2                 0   \n",
       "3               1               16                  0                 0   \n",
       "4               0                8                  0                 0   \n",
       "\n",
       "   number_inpatient  number_diagnoses max_glu_serum A1Cresult metformin  \\\n",
       "0                 0                 1          None      None        No   \n",
       "1                 0                 9          None      None        No   \n",
       "2                 1                 6          None      None        No   \n",
       "3                 0                 7          None      None        No   \n",
       "4                 0                 5          None      None        No   \n",
       "\n",
       "  repaglinide nateglinide chlorpropamide glimepiride acetohexamide glipizide  \\\n",
       "0          No          No             No          No            No        No   \n",
       "1          No          No             No          No            No        No   \n",
       "2          No          No             No          No            No    Steady   \n",
       "3          No          No             No          No            No        No   \n",
       "4          No          No             No          No            No    Steady   \n",
       "\n",
       "  glyburide tolbutamide pioglitazone rosiglitazone acarbose miglitol  \\\n",
       "0        No          No           No            No       No       No   \n",
       "1        No          No           No            No       No       No   \n",
       "2        No          No           No            No       No       No   \n",
       "3        No          No           No            No       No       No   \n",
       "4        No          No           No            No       No       No   \n",
       "\n",
       "  troglitazone tolazamide examide citoglipton insulin glyburide-metformin  \\\n",
       "0           No         No      No          No      No                  No   \n",
       "1           No         No      No          No      Up                  No   \n",
       "2           No         No      No          No      No                  No   \n",
       "3           No         No      No          No      Up                  No   \n",
       "4           No         No      No          No  Steady                  No   \n",
       "\n",
       "  glipizide-metformin glimepiride-pioglitazone metformin-rosiglitazone  \\\n",
       "0                  No                       No                      No   \n",
       "1                  No                       No                      No   \n",
       "2                  No                       No                      No   \n",
       "3                  No                       No                      No   \n",
       "4                  No                       No                      No   \n",
       "\n",
       "  metformin-pioglitazone change diabetesMed  readmitted  \n",
       "0                     No     No          No           0  \n",
       "1                     No     Ch         Yes           1  \n",
       "2                     No     No         Yes           0  \n",
       "3                     No     Ch         Yes           0  \n",
       "4                     No     Ch         Yes           0  "
      ]
     },
     "execution_count": 4,
     "metadata": {},
     "output_type": "execute_result"
    }
   ],
   "source": [
    "traindata.head()"
   ]
  },
  {
   "cell_type": "code",
   "execution_count": 5,
   "id": "5d1064ff",
   "metadata": {},
   "outputs": [
    {
     "data": {
      "text/html": [
       "<div>\n",
       "<style scoped>\n",
       "    .dataframe tbody tr th:only-of-type {\n",
       "        vertical-align: middle;\n",
       "    }\n",
       "\n",
       "    .dataframe tbody tr th {\n",
       "        vertical-align: top;\n",
       "    }\n",
       "\n",
       "    .dataframe thead th {\n",
       "        text-align: right;\n",
       "    }\n",
       "</style>\n",
       "<table border=\"1\" class=\"dataframe\">\n",
       "  <thead>\n",
       "    <tr style=\"text-align: right;\">\n",
       "      <th></th>\n",
       "      <th>encounter_id</th>\n",
       "      <th>patient_nbr</th>\n",
       "      <th>race</th>\n",
       "      <th>gender</th>\n",
       "      <th>age</th>\n",
       "      <th>weight</th>\n",
       "      <th>admission_type_id</th>\n",
       "      <th>discharge_disposition_id</th>\n",
       "      <th>admission_source_id</th>\n",
       "      <th>time_in_hospital</th>\n",
       "      <th>payer_code</th>\n",
       "      <th>medical_specialty</th>\n",
       "      <th>num_lab_procedures</th>\n",
       "      <th>num_procedures</th>\n",
       "      <th>num_medications</th>\n",
       "      <th>number_outpatient</th>\n",
       "      <th>number_emergency</th>\n",
       "      <th>number_inpatient</th>\n",
       "      <th>number_diagnoses</th>\n",
       "      <th>max_glu_serum</th>\n",
       "      <th>A1Cresult</th>\n",
       "      <th>metformin</th>\n",
       "      <th>repaglinide</th>\n",
       "      <th>nateglinide</th>\n",
       "      <th>chlorpropamide</th>\n",
       "      <th>glimepiride</th>\n",
       "      <th>acetohexamide</th>\n",
       "      <th>glipizide</th>\n",
       "      <th>glyburide</th>\n",
       "      <th>tolbutamide</th>\n",
       "      <th>pioglitazone</th>\n",
       "      <th>rosiglitazone</th>\n",
       "      <th>acarbose</th>\n",
       "      <th>miglitol</th>\n",
       "      <th>troglitazone</th>\n",
       "      <th>tolazamide</th>\n",
       "      <th>examide</th>\n",
       "      <th>citoglipton</th>\n",
       "      <th>insulin</th>\n",
       "      <th>glyburide-metformin</th>\n",
       "      <th>glipizide-metformin</th>\n",
       "      <th>glimepiride-pioglitazone</th>\n",
       "      <th>metformin-rosiglitazone</th>\n",
       "      <th>metformin-pioglitazone</th>\n",
       "      <th>change</th>\n",
       "      <th>diabetesMed</th>\n",
       "    </tr>\n",
       "  </thead>\n",
       "  <tbody>\n",
       "    <tr>\n",
       "      <th>0</th>\n",
       "      <td>437260196</td>\n",
       "      <td>40830156</td>\n",
       "      <td>Caucasian</td>\n",
       "      <td>Female</td>\n",
       "      <td>[90-100)</td>\n",
       "      <td>?</td>\n",
       "      <td>1</td>\n",
       "      <td>11</td>\n",
       "      <td>7</td>\n",
       "      <td>4</td>\n",
       "      <td>SP</td>\n",
       "      <td>?</td>\n",
       "      <td>58</td>\n",
       "      <td>0</td>\n",
       "      <td>26</td>\n",
       "      <td>0</td>\n",
       "      <td>0</td>\n",
       "      <td>0</td>\n",
       "      <td>8</td>\n",
       "      <td>None</td>\n",
       "      <td>None</td>\n",
       "      <td>No</td>\n",
       "      <td>No</td>\n",
       "      <td>Steady</td>\n",
       "      <td>No</td>\n",
       "      <td>No</td>\n",
       "      <td>No</td>\n",
       "      <td>No</td>\n",
       "      <td>No</td>\n",
       "      <td>No</td>\n",
       "      <td>No</td>\n",
       "      <td>No</td>\n",
       "      <td>No</td>\n",
       "      <td>No</td>\n",
       "      <td>No</td>\n",
       "      <td>No</td>\n",
       "      <td>No</td>\n",
       "      <td>No</td>\n",
       "      <td>Down</td>\n",
       "      <td>No</td>\n",
       "      <td>No</td>\n",
       "      <td>No</td>\n",
       "      <td>No</td>\n",
       "      <td>No</td>\n",
       "      <td>Ch</td>\n",
       "      <td>Yes</td>\n",
       "    </tr>\n",
       "    <tr>\n",
       "      <th>1</th>\n",
       "      <td>437263424</td>\n",
       "      <td>111090681</td>\n",
       "      <td>Caucasian</td>\n",
       "      <td>Female</td>\n",
       "      <td>[50-60)</td>\n",
       "      <td>?</td>\n",
       "      <td>1</td>\n",
       "      <td>6</td>\n",
       "      <td>7</td>\n",
       "      <td>6</td>\n",
       "      <td>BC</td>\n",
       "      <td>?</td>\n",
       "      <td>49</td>\n",
       "      <td>0</td>\n",
       "      <td>20</td>\n",
       "      <td>1</td>\n",
       "      <td>2</td>\n",
       "      <td>3</td>\n",
       "      <td>9</td>\n",
       "      <td>None</td>\n",
       "      <td>None</td>\n",
       "      <td>No</td>\n",
       "      <td>No</td>\n",
       "      <td>No</td>\n",
       "      <td>No</td>\n",
       "      <td>No</td>\n",
       "      <td>No</td>\n",
       "      <td>No</td>\n",
       "      <td>No</td>\n",
       "      <td>No</td>\n",
       "      <td>No</td>\n",
       "      <td>No</td>\n",
       "      <td>No</td>\n",
       "      <td>No</td>\n",
       "      <td>No</td>\n",
       "      <td>No</td>\n",
       "      <td>No</td>\n",
       "      <td>No</td>\n",
       "      <td>No</td>\n",
       "      <td>No</td>\n",
       "      <td>No</td>\n",
       "      <td>No</td>\n",
       "      <td>No</td>\n",
       "      <td>No</td>\n",
       "      <td>No</td>\n",
       "      <td>No</td>\n",
       "    </tr>\n",
       "    <tr>\n",
       "      <th>2</th>\n",
       "      <td>437270768</td>\n",
       "      <td>124367945</td>\n",
       "      <td>Caucasian</td>\n",
       "      <td>Male</td>\n",
       "      <td>[60-70)</td>\n",
       "      <td>?</td>\n",
       "      <td>1</td>\n",
       "      <td>1</td>\n",
       "      <td>7</td>\n",
       "      <td>2</td>\n",
       "      <td>OG</td>\n",
       "      <td>InternalMedicine</td>\n",
       "      <td>53</td>\n",
       "      <td>6</td>\n",
       "      <td>19</td>\n",
       "      <td>0</td>\n",
       "      <td>0</td>\n",
       "      <td>0</td>\n",
       "      <td>9</td>\n",
       "      <td>None</td>\n",
       "      <td>None</td>\n",
       "      <td>Steady</td>\n",
       "      <td>No</td>\n",
       "      <td>No</td>\n",
       "      <td>No</td>\n",
       "      <td>No</td>\n",
       "      <td>No</td>\n",
       "      <td>No</td>\n",
       "      <td>No</td>\n",
       "      <td>No</td>\n",
       "      <td>No</td>\n",
       "      <td>No</td>\n",
       "      <td>No</td>\n",
       "      <td>No</td>\n",
       "      <td>No</td>\n",
       "      <td>No</td>\n",
       "      <td>No</td>\n",
       "      <td>No</td>\n",
       "      <td>Up</td>\n",
       "      <td>No</td>\n",
       "      <td>No</td>\n",
       "      <td>No</td>\n",
       "      <td>No</td>\n",
       "      <td>No</td>\n",
       "      <td>Ch</td>\n",
       "      <td>Yes</td>\n",
       "    </tr>\n",
       "    <tr>\n",
       "      <th>3</th>\n",
       "      <td>437270900</td>\n",
       "      <td>126827519</td>\n",
       "      <td>Caucasian</td>\n",
       "      <td>Female</td>\n",
       "      <td>[80-90)</td>\n",
       "      <td>?</td>\n",
       "      <td>2</td>\n",
       "      <td>1</td>\n",
       "      <td>1</td>\n",
       "      <td>2</td>\n",
       "      <td>MC</td>\n",
       "      <td>?</td>\n",
       "      <td>50</td>\n",
       "      <td>0</td>\n",
       "      <td>7</td>\n",
       "      <td>1</td>\n",
       "      <td>0</td>\n",
       "      <td>0</td>\n",
       "      <td>9</td>\n",
       "      <td>None</td>\n",
       "      <td>None</td>\n",
       "      <td>No</td>\n",
       "      <td>No</td>\n",
       "      <td>No</td>\n",
       "      <td>No</td>\n",
       "      <td>No</td>\n",
       "      <td>No</td>\n",
       "      <td>Steady</td>\n",
       "      <td>No</td>\n",
       "      <td>No</td>\n",
       "      <td>No</td>\n",
       "      <td>No</td>\n",
       "      <td>No</td>\n",
       "      <td>No</td>\n",
       "      <td>No</td>\n",
       "      <td>No</td>\n",
       "      <td>No</td>\n",
       "      <td>No</td>\n",
       "      <td>No</td>\n",
       "      <td>No</td>\n",
       "      <td>No</td>\n",
       "      <td>No</td>\n",
       "      <td>No</td>\n",
       "      <td>No</td>\n",
       "      <td>No</td>\n",
       "      <td>Yes</td>\n",
       "    </tr>\n",
       "    <tr>\n",
       "      <th>4</th>\n",
       "      <td>437271554</td>\n",
       "      <td>32337963</td>\n",
       "      <td>Caucasian</td>\n",
       "      <td>Female</td>\n",
       "      <td>[50-60)</td>\n",
       "      <td>?</td>\n",
       "      <td>1</td>\n",
       "      <td>1</td>\n",
       "      <td>7</td>\n",
       "      <td>2</td>\n",
       "      <td>BC</td>\n",
       "      <td>?</td>\n",
       "      <td>55</td>\n",
       "      <td>1</td>\n",
       "      <td>21</td>\n",
       "      <td>0</td>\n",
       "      <td>0</td>\n",
       "      <td>0</td>\n",
       "      <td>9</td>\n",
       "      <td>None</td>\n",
       "      <td>None</td>\n",
       "      <td>No</td>\n",
       "      <td>No</td>\n",
       "      <td>No</td>\n",
       "      <td>No</td>\n",
       "      <td>No</td>\n",
       "      <td>No</td>\n",
       "      <td>No</td>\n",
       "      <td>No</td>\n",
       "      <td>No</td>\n",
       "      <td>No</td>\n",
       "      <td>No</td>\n",
       "      <td>No</td>\n",
       "      <td>No</td>\n",
       "      <td>No</td>\n",
       "      <td>No</td>\n",
       "      <td>No</td>\n",
       "      <td>No</td>\n",
       "      <td>Steady</td>\n",
       "      <td>No</td>\n",
       "      <td>No</td>\n",
       "      <td>No</td>\n",
       "      <td>No</td>\n",
       "      <td>No</td>\n",
       "      <td>No</td>\n",
       "      <td>Yes</td>\n",
       "    </tr>\n",
       "  </tbody>\n",
       "</table>\n",
       "</div>"
      ],
      "text/plain": [
       "   encounter_id  patient_nbr       race  gender       age weight  \\\n",
       "0     437260196     40830156  Caucasian  Female  [90-100)      ?   \n",
       "1     437263424    111090681  Caucasian  Female   [50-60)      ?   \n",
       "2     437270768    124367945  Caucasian    Male   [60-70)      ?   \n",
       "3     437270900    126827519  Caucasian  Female   [80-90)      ?   \n",
       "4     437271554     32337963  Caucasian  Female   [50-60)      ?   \n",
       "\n",
       "   admission_type_id  discharge_disposition_id  admission_source_id  \\\n",
       "0                  1                        11                    7   \n",
       "1                  1                         6                    7   \n",
       "2                  1                         1                    7   \n",
       "3                  2                         1                    1   \n",
       "4                  1                         1                    7   \n",
       "\n",
       "   time_in_hospital payer_code medical_specialty  num_lab_procedures  \\\n",
       "0                 4         SP                 ?                  58   \n",
       "1                 6         BC                 ?                  49   \n",
       "2                 2         OG  InternalMedicine                  53   \n",
       "3                 2         MC                 ?                  50   \n",
       "4                 2         BC                 ?                  55   \n",
       "\n",
       "   num_procedures  num_medications  number_outpatient  number_emergency  \\\n",
       "0               0               26                  0                 0   \n",
       "1               0               20                  1                 2   \n",
       "2               6               19                  0                 0   \n",
       "3               0                7                  1                 0   \n",
       "4               1               21                  0                 0   \n",
       "\n",
       "   number_inpatient  number_diagnoses max_glu_serum A1Cresult metformin  \\\n",
       "0                 0                 8          None      None        No   \n",
       "1                 3                 9          None      None        No   \n",
       "2                 0                 9          None      None    Steady   \n",
       "3                 0                 9          None      None        No   \n",
       "4                 0                 9          None      None        No   \n",
       "\n",
       "  repaglinide nateglinide chlorpropamide glimepiride acetohexamide glipizide  \\\n",
       "0          No      Steady             No          No            No        No   \n",
       "1          No          No             No          No            No        No   \n",
       "2          No          No             No          No            No        No   \n",
       "3          No          No             No          No            No    Steady   \n",
       "4          No          No             No          No            No        No   \n",
       "\n",
       "  glyburide tolbutamide pioglitazone rosiglitazone acarbose miglitol  \\\n",
       "0        No          No           No            No       No       No   \n",
       "1        No          No           No            No       No       No   \n",
       "2        No          No           No            No       No       No   \n",
       "3        No          No           No            No       No       No   \n",
       "4        No          No           No            No       No       No   \n",
       "\n",
       "  troglitazone tolazamide examide citoglipton insulin glyburide-metformin  \\\n",
       "0           No         No      No          No    Down                  No   \n",
       "1           No         No      No          No      No                  No   \n",
       "2           No         No      No          No      Up                  No   \n",
       "3           No         No      No          No      No                  No   \n",
       "4           No         No      No          No  Steady                  No   \n",
       "\n",
       "  glipizide-metformin glimepiride-pioglitazone metformin-rosiglitazone  \\\n",
       "0                  No                       No                      No   \n",
       "1                  No                       No                      No   \n",
       "2                  No                       No                      No   \n",
       "3                  No                       No                      No   \n",
       "4                  No                       No                      No   \n",
       "\n",
       "  metformin-pioglitazone change diabetesMed  \n",
       "0                     No     Ch         Yes  \n",
       "1                     No     No          No  \n",
       "2                     No     Ch         Yes  \n",
       "3                     No     No         Yes  \n",
       "4                     No     No         Yes  "
      ]
     },
     "execution_count": 5,
     "metadata": {},
     "output_type": "execute_result"
    }
   ],
   "source": [
    "newdata.head()"
   ]
  },
  {
   "cell_type": "markdown",
   "id": "be970f6b",
   "metadata": {},
   "source": [
    "<b> Check for the Shape</b>"
   ]
  },
  {
   "cell_type": "code",
   "execution_count": 6,
   "id": "a8d52c03",
   "metadata": {},
   "outputs": [
    {
     "name": "stdout",
     "output_type": "stream",
     "text": [
      "Shape of \u001b[1mTrain Data\u001b[0m is 100766 rows and 47 columns.\n",
      "Shape of \u001b[1mMap Data\u001b[0m is 67 rows and 2 columns.\n",
      "Shape of \u001b[1mNew Data\u001b[0m is 500 rows and 46 columns.\n"
     ]
    }
   ],
   "source": [
    "print(\"Shape of \\033[1mTrain Data\\033[0m is {} rows and {} columns.\".format(*traindata.shape))\n",
    "print(\"Shape of \\033[1mMap Data\\033[0m is {} rows and {} columns.\".format(*mapdata.shape))\n",
    "print(\"Shape of \\033[1mNew Data\\033[0m is {} rows and {} columns.\".format(*newdata.shape))"
   ]
  },
  {
   "cell_type": "markdown",
   "id": "e008fe0c",
   "metadata": {},
   "source": [
    "<b>Check for Missing Values</b>"
   ]
  },
  {
   "cell_type": "code",
   "execution_count": 7,
   "id": "3b03b032",
   "metadata": {},
   "outputs": [],
   "source": [
    "def missing_values_table(df):\n",
    "        mis_val = df.isnull().sum()\n",
    "        mis_val_percent = 100 * df.isnull().sum() / len(df)\n",
    "        mis_val_table = pd.concat([mis_val, mis_val_percent], axis=1)\n",
    "        mis_val_table_ren_columns = mis_val_table.rename(columns = {0 : 'Missing Values', 1 : '% of Total Values'})\n",
    "        mis_val_table_ren_columns = mis_val_table_ren_columns[mis_val_table_ren_columns.iloc[:,1] != 0].sort_values('% of Total Values', ascending=False).round(1)\n",
    "        print (\"Your selected dataframe has \" + str(df.shape[1]))   \n",
    "        print(\"There are \" + str(mis_val_table_ren_columns.shape[0])+\" columns that have missing values.\")\n",
    "        return mis_val_table_ren_columns"
   ]
  },
  {
   "cell_type": "code",
   "execution_count": 8,
   "id": "d3c7ab10",
   "metadata": {},
   "outputs": [
    {
     "name": "stdout",
     "output_type": "stream",
     "text": [
      "Your selected dataframe has 47\n",
      "There are 0 columns that have missing values.\n"
     ]
    },
    {
     "data": {
      "text/html": [
       "<style  type=\"text/css\" >\n",
       "</style><table id=\"T_7b2f2_\" ><thead>    <tr>        <th class=\"blank level0\" ></th>        <th class=\"col_heading level0 col0\" >Missing Values</th>        <th class=\"col_heading level0 col1\" >% of Total Values</th>    </tr></thead><tbody>\n",
       "        </tbody></table>"
      ],
      "text/plain": [
       "<pandas.io.formats.style.Styler at 0x184a95dff70>"
      ]
     },
     "execution_count": 8,
     "metadata": {},
     "output_type": "execute_result"
    }
   ],
   "source": [
    "missing_values_table(traindata).style.background_gradient(cmap='icefire')"
   ]
  },
  {
   "cell_type": "code",
   "execution_count": 9,
   "id": "2059bbbe",
   "metadata": {},
   "outputs": [
    {
     "name": "stdout",
     "output_type": "stream",
     "text": [
      "Your selected dataframe has 46\n",
      "There are 0 columns that have missing values.\n"
     ]
    },
    {
     "data": {
      "text/html": [
       "<style  type=\"text/css\" >\n",
       "</style><table id=\"T_7e52d_\" ><thead>    <tr>        <th class=\"blank level0\" ></th>        <th class=\"col_heading level0 col0\" >Missing Values</th>        <th class=\"col_heading level0 col1\" >% of Total Values</th>    </tr></thead><tbody>\n",
       "        </tbody></table>"
      ],
      "text/plain": [
       "<pandas.io.formats.style.Styler at 0x184a9844d60>"
      ]
     },
     "execution_count": 9,
     "metadata": {},
     "output_type": "execute_result"
    }
   ],
   "source": [
    "missing_values_table(newdata).style.background_gradient(cmap='icefire')"
   ]
  },
  {
   "cell_type": "markdown",
   "id": "e54f5ec9",
   "metadata": {},
   "source": [
    "- No missing value observed"
   ]
  },
  {
   "cell_type": "markdown",
   "id": "27c0273a",
   "metadata": {},
   "source": [
    "<b>Check for duplicate values</b>"
   ]
  },
  {
   "cell_type": "code",
   "execution_count": 10,
   "id": "03ee919c",
   "metadata": {},
   "outputs": [
    {
     "data": {
      "text/plain": [
       "False"
      ]
     },
     "execution_count": 10,
     "metadata": {},
     "output_type": "execute_result"
    }
   ],
   "source": [
    "traindata.duplicated().any()"
   ]
  },
  {
   "cell_type": "markdown",
   "id": "80017a91",
   "metadata": {},
   "source": [
    "- No duplicated value observed"
   ]
  },
  {
   "cell_type": "markdown",
   "id": "6924917a",
   "metadata": {},
   "source": [
    "<b>Check for other basic summary</b>"
   ]
  },
  {
   "cell_type": "code",
   "execution_count": 11,
   "id": "d70444dd",
   "metadata": {},
   "outputs": [
    {
     "data": {
      "text/html": [
       "<div>\n",
       "<style scoped>\n",
       "    .dataframe tbody tr th:only-of-type {\n",
       "        vertical-align: middle;\n",
       "    }\n",
       "\n",
       "    .dataframe tbody tr th {\n",
       "        vertical-align: top;\n",
       "    }\n",
       "\n",
       "    .dataframe thead th {\n",
       "        text-align: right;\n",
       "    }\n",
       "</style>\n",
       "<table border=\"1\" class=\"dataframe\">\n",
       "  <thead>\n",
       "    <tr style=\"text-align: right;\">\n",
       "      <th></th>\n",
       "      <th>count</th>\n",
       "      <th>mean</th>\n",
       "      <th>std</th>\n",
       "      <th>min</th>\n",
       "      <th>25%</th>\n",
       "      <th>50%</th>\n",
       "      <th>75%</th>\n",
       "      <th>max</th>\n",
       "    </tr>\n",
       "  </thead>\n",
       "  <tbody>\n",
       "    <tr>\n",
       "      <th>encounter_id</th>\n",
       "      <td>100766.0</td>\n",
       "      <td>1.625029e+08</td>\n",
       "      <td>9.948982e+07</td>\n",
       "      <td>12522.0</td>\n",
       "      <td>84456114.0</td>\n",
       "      <td>151402851.0</td>\n",
       "      <td>226960606.5</td>\n",
       "      <td>430748252.0</td>\n",
       "    </tr>\n",
       "    <tr>\n",
       "      <th>patient_nbr</th>\n",
       "      <td>100766.0</td>\n",
       "      <td>5.395816e+07</td>\n",
       "      <td>3.843644e+07</td>\n",
       "      <td>135.0</td>\n",
       "      <td>23388597.0</td>\n",
       "      <td>45100584.0</td>\n",
       "      <td>87236460.0</td>\n",
       "      <td>189502619.0</td>\n",
       "    </tr>\n",
       "    <tr>\n",
       "      <th>admission_type_id</th>\n",
       "      <td>100766.0</td>\n",
       "      <td>2.027757e+00</td>\n",
       "      <td>1.447976e+00</td>\n",
       "      <td>1.0</td>\n",
       "      <td>1.0</td>\n",
       "      <td>1.0</td>\n",
       "      <td>3.0</td>\n",
       "      <td>8.0</td>\n",
       "    </tr>\n",
       "    <tr>\n",
       "      <th>discharge_disposition_id</th>\n",
       "      <td>100766.0</td>\n",
       "      <td>3.724659e+00</td>\n",
       "      <td>5.292776e+00</td>\n",
       "      <td>1.0</td>\n",
       "      <td>1.0</td>\n",
       "      <td>1.0</td>\n",
       "      <td>4.0</td>\n",
       "      <td>28.0</td>\n",
       "    </tr>\n",
       "    <tr>\n",
       "      <th>admission_source_id</th>\n",
       "      <td>100766.0</td>\n",
       "      <td>5.755801e+00</td>\n",
       "      <td>4.072145e+00</td>\n",
       "      <td>1.0</td>\n",
       "      <td>1.0</td>\n",
       "      <td>7.0</td>\n",
       "      <td>7.0</td>\n",
       "      <td>25.0</td>\n",
       "    </tr>\n",
       "    <tr>\n",
       "      <th>time_in_hospital</th>\n",
       "      <td>100766.0</td>\n",
       "      <td>4.398676e+00</td>\n",
       "      <td>2.986665e+00</td>\n",
       "      <td>1.0</td>\n",
       "      <td>2.0</td>\n",
       "      <td>4.0</td>\n",
       "      <td>6.0</td>\n",
       "      <td>14.0</td>\n",
       "    </tr>\n",
       "    <tr>\n",
       "      <th>num_lab_procedures</th>\n",
       "      <td>100766.0</td>\n",
       "      <td>4.310011e+01</td>\n",
       "      <td>1.965631e+01</td>\n",
       "      <td>1.0</td>\n",
       "      <td>31.0</td>\n",
       "      <td>44.0</td>\n",
       "      <td>57.0</td>\n",
       "      <td>132.0</td>\n",
       "    </tr>\n",
       "    <tr>\n",
       "      <th>num_procedures</th>\n",
       "      <td>100766.0</td>\n",
       "      <td>1.339648e+00</td>\n",
       "      <td>1.704756e+00</td>\n",
       "      <td>0.0</td>\n",
       "      <td>0.0</td>\n",
       "      <td>1.0</td>\n",
       "      <td>2.0</td>\n",
       "      <td>6.0</td>\n",
       "    </tr>\n",
       "    <tr>\n",
       "      <th>num_medications</th>\n",
       "      <td>100766.0</td>\n",
       "      <td>1.601528e+01</td>\n",
       "      <td>8.125831e+00</td>\n",
       "      <td>1.0</td>\n",
       "      <td>10.0</td>\n",
       "      <td>15.0</td>\n",
       "      <td>20.0</td>\n",
       "      <td>81.0</td>\n",
       "    </tr>\n",
       "    <tr>\n",
       "      <th>number_outpatient</th>\n",
       "      <td>100766.0</td>\n",
       "      <td>3.675148e-01</td>\n",
       "      <td>1.259773e+00</td>\n",
       "      <td>0.0</td>\n",
       "      <td>0.0</td>\n",
       "      <td>0.0</td>\n",
       "      <td>0.0</td>\n",
       "      <td>42.0</td>\n",
       "    </tr>\n",
       "    <tr>\n",
       "      <th>number_emergency</th>\n",
       "      <td>100766.0</td>\n",
       "      <td>1.969216e-01</td>\n",
       "      <td>9.260853e-01</td>\n",
       "      <td>0.0</td>\n",
       "      <td>0.0</td>\n",
       "      <td>0.0</td>\n",
       "      <td>0.0</td>\n",
       "      <td>76.0</td>\n",
       "    </tr>\n",
       "    <tr>\n",
       "      <th>number_inpatient</th>\n",
       "      <td>100766.0</td>\n",
       "      <td>6.349165e-01</td>\n",
       "      <td>1.261113e+00</td>\n",
       "      <td>0.0</td>\n",
       "      <td>0.0</td>\n",
       "      <td>0.0</td>\n",
       "      <td>1.0</td>\n",
       "      <td>21.0</td>\n",
       "    </tr>\n",
       "    <tr>\n",
       "      <th>number_diagnoses</th>\n",
       "      <td>100766.0</td>\n",
       "      <td>7.414515e+00</td>\n",
       "      <td>1.933903e+00</td>\n",
       "      <td>1.0</td>\n",
       "      <td>6.0</td>\n",
       "      <td>8.0</td>\n",
       "      <td>9.0</td>\n",
       "      <td>16.0</td>\n",
       "    </tr>\n",
       "    <tr>\n",
       "      <th>readmitted</th>\n",
       "      <td>100766.0</td>\n",
       "      <td>4.617927e-01</td>\n",
       "      <td>4.985405e-01</td>\n",
       "      <td>0.0</td>\n",
       "      <td>0.0</td>\n",
       "      <td>0.0</td>\n",
       "      <td>1.0</td>\n",
       "      <td>1.0</td>\n",
       "    </tr>\n",
       "  </tbody>\n",
       "</table>\n",
       "</div>"
      ],
      "text/plain": [
       "                             count          mean           std      min  \\\n",
       "encounter_id              100766.0  1.625029e+08  9.948982e+07  12522.0   \n",
       "patient_nbr               100766.0  5.395816e+07  3.843644e+07    135.0   \n",
       "admission_type_id         100766.0  2.027757e+00  1.447976e+00      1.0   \n",
       "discharge_disposition_id  100766.0  3.724659e+00  5.292776e+00      1.0   \n",
       "admission_source_id       100766.0  5.755801e+00  4.072145e+00      1.0   \n",
       "time_in_hospital          100766.0  4.398676e+00  2.986665e+00      1.0   \n",
       "num_lab_procedures        100766.0  4.310011e+01  1.965631e+01      1.0   \n",
       "num_procedures            100766.0  1.339648e+00  1.704756e+00      0.0   \n",
       "num_medications           100766.0  1.601528e+01  8.125831e+00      1.0   \n",
       "number_outpatient         100766.0  3.675148e-01  1.259773e+00      0.0   \n",
       "number_emergency          100766.0  1.969216e-01  9.260853e-01      0.0   \n",
       "number_inpatient          100766.0  6.349165e-01  1.261113e+00      0.0   \n",
       "number_diagnoses          100766.0  7.414515e+00  1.933903e+00      1.0   \n",
       "readmitted                100766.0  4.617927e-01  4.985405e-01      0.0   \n",
       "\n",
       "                                 25%          50%          75%          max  \n",
       "encounter_id              84456114.0  151402851.0  226960606.5  430748252.0  \n",
       "patient_nbr               23388597.0   45100584.0   87236460.0  189502619.0  \n",
       "admission_type_id                1.0          1.0          3.0          8.0  \n",
       "discharge_disposition_id         1.0          1.0          4.0         28.0  \n",
       "admission_source_id              1.0          7.0          7.0         25.0  \n",
       "time_in_hospital                 2.0          4.0          6.0         14.0  \n",
       "num_lab_procedures              31.0         44.0         57.0        132.0  \n",
       "num_procedures                   0.0          1.0          2.0          6.0  \n",
       "num_medications                 10.0         15.0         20.0         81.0  \n",
       "number_outpatient                0.0          0.0          0.0         42.0  \n",
       "number_emergency                 0.0          0.0          0.0         76.0  \n",
       "number_inpatient                 0.0          0.0          1.0         21.0  \n",
       "number_diagnoses                 6.0          8.0          9.0         16.0  \n",
       "readmitted                       0.0          0.0          1.0          1.0  "
      ]
     },
     "execution_count": 11,
     "metadata": {},
     "output_type": "execute_result"
    }
   ],
   "source": [
    "traindata.describe().T"
   ]
  },
  {
   "cell_type": "code",
   "execution_count": 12,
   "id": "43ed1320",
   "metadata": {},
   "outputs": [
    {
     "name": "stdout",
     "output_type": "stream",
     "text": [
      "<class 'pandas.core.frame.DataFrame'>\n",
      "RangeIndex: 100766 entries, 0 to 100765\n",
      "Data columns (total 47 columns):\n",
      " #   Column                    Non-Null Count   Dtype \n",
      "---  ------                    --------------   ----- \n",
      " 0   encounter_id              100766 non-null  int64 \n",
      " 1   patient_nbr               100766 non-null  int64 \n",
      " 2   race                      100766 non-null  object\n",
      " 3   gender                    100766 non-null  object\n",
      " 4   age                       100766 non-null  object\n",
      " 5   weight                    100766 non-null  object\n",
      " 6   admission_type_id         100766 non-null  int64 \n",
      " 7   discharge_disposition_id  100766 non-null  int64 \n",
      " 8   admission_source_id       100766 non-null  int64 \n",
      " 9   time_in_hospital          100766 non-null  int64 \n",
      " 10  payer_code                100766 non-null  object\n",
      " 11  medical_specialty         100766 non-null  object\n",
      " 12  num_lab_procedures        100766 non-null  int64 \n",
      " 13  num_procedures            100766 non-null  int64 \n",
      " 14  num_medications           100766 non-null  int64 \n",
      " 15  number_outpatient         100766 non-null  int64 \n",
      " 16  number_emergency          100766 non-null  int64 \n",
      " 17  number_inpatient          100766 non-null  int64 \n",
      " 18  number_diagnoses          100766 non-null  int64 \n",
      " 19  max_glu_serum             100766 non-null  object\n",
      " 20  A1Cresult                 100766 non-null  object\n",
      " 21  metformin                 100766 non-null  object\n",
      " 22  repaglinide               100766 non-null  object\n",
      " 23  nateglinide               100766 non-null  object\n",
      " 24  chlorpropamide            100766 non-null  object\n",
      " 25  glimepiride               100766 non-null  object\n",
      " 26  acetohexamide             100766 non-null  object\n",
      " 27  glipizide                 100766 non-null  object\n",
      " 28  glyburide                 100766 non-null  object\n",
      " 29  tolbutamide               100766 non-null  object\n",
      " 30  pioglitazone              100766 non-null  object\n",
      " 31  rosiglitazone             100766 non-null  object\n",
      " 32  acarbose                  100766 non-null  object\n",
      " 33  miglitol                  100766 non-null  object\n",
      " 34  troglitazone              100766 non-null  object\n",
      " 35  tolazamide                100766 non-null  object\n",
      " 36  examide                   100766 non-null  object\n",
      " 37  citoglipton               100766 non-null  object\n",
      " 38  insulin                   100766 non-null  object\n",
      " 39  glyburide-metformin       100766 non-null  object\n",
      " 40  glipizide-metformin       100766 non-null  object\n",
      " 41  glimepiride-pioglitazone  100766 non-null  object\n",
      " 42  metformin-rosiglitazone   100766 non-null  object\n",
      " 43  metformin-pioglitazone    100766 non-null  object\n",
      " 44  change                    100766 non-null  object\n",
      " 45  diabetesMed               100766 non-null  object\n",
      " 46  readmitted                100766 non-null  int64 \n",
      "dtypes: int64(14), object(33)\n",
      "memory usage: 36.1+ MB\n"
     ]
    }
   ],
   "source": [
    "traindata.info()"
   ]
  },
  {
   "cell_type": "markdown",
   "id": "d5290177",
   "metadata": {},
   "source": [
    "### Preprocessing and Exploratoray Data Analysis\n",
    "\n",
    "<b>Check for the unique values in each column</b>"
   ]
  },
  {
   "cell_type": "code",
   "execution_count": 13,
   "id": "01c884b4",
   "metadata": {},
   "outputs": [
    {
     "name": "stdout",
     "output_type": "stream",
     "text": [
      "Count of unique values in encounter_id column are 100766.\n",
      "Count of unique values in patient_nbr column are 70943.\n",
      "Count of unique values in race column are 6.\n",
      "Count of unique values in gender column are 3.\n",
      "Count of unique values in age column are 10.\n",
      "Count of unique values in weight column are 10.\n",
      "Count of unique values in admission_type_id column are 8.\n",
      "Count of unique values in discharge_disposition_id column are 26.\n",
      "Count of unique values in admission_source_id column are 17.\n",
      "Count of unique values in time_in_hospital column are 14.\n",
      "Count of unique values in payer_code column are 18.\n",
      "Count of unique values in medical_specialty column are 73.\n",
      "Count of unique values in num_lab_procedures column are 118.\n",
      "Count of unique values in num_procedures column are 7.\n",
      "Count of unique values in num_medications column are 75.\n",
      "Count of unique values in number_outpatient column are 39.\n",
      "Count of unique values in number_emergency column are 32.\n",
      "Count of unique values in number_inpatient column are 21.\n",
      "Count of unique values in number_diagnoses column are 16.\n",
      "Count of unique values in max_glu_serum column are 4.\n",
      "Count of unique values in A1Cresult column are 4.\n",
      "Count of unique values in metformin column are 4.\n",
      "Count of unique values in repaglinide column are 4.\n",
      "Count of unique values in nateglinide column are 4.\n",
      "Count of unique values in chlorpropamide column are 4.\n",
      "Count of unique values in glimepiride column are 4.\n",
      "Count of unique values in acetohexamide column are 2.\n",
      "Count of unique values in glipizide column are 4.\n",
      "Count of unique values in glyburide column are 4.\n",
      "Count of unique values in tolbutamide column are 2.\n",
      "Count of unique values in pioglitazone column are 4.\n",
      "Count of unique values in rosiglitazone column are 4.\n",
      "Count of unique values in acarbose column are 4.\n",
      "Count of unique values in miglitol column are 4.\n",
      "Count of unique values in troglitazone column are 2.\n",
      "Count of unique values in tolazamide column are 3.\n",
      "Count of unique values in examide column are 1.\n",
      "Count of unique values in citoglipton column are 1.\n",
      "Count of unique values in insulin column are 4.\n",
      "Count of unique values in glyburide-metformin column are 4.\n",
      "Count of unique values in glipizide-metformin column are 2.\n",
      "Count of unique values in glimepiride-pioglitazone column are 2.\n",
      "Count of unique values in metformin-rosiglitazone column are 2.\n",
      "Count of unique values in metformin-pioglitazone column are 2.\n",
      "Count of unique values in change column are 2.\n",
      "Count of unique values in diabetesMed column are 2.\n",
      "Count of unique values in readmitted column are 2.\n"
     ]
    }
   ],
   "source": [
    "for i in traindata.columns:\n",
    "    print(\"Count of unique values in {} column are {}.\".format(i, traindata[i].nunique()))"
   ]
  },
  {
   "cell_type": "markdown",
   "id": "e3c9d1f3",
   "metadata": {},
   "source": [
    "- Columns encounter_id, examide and citoglipton can be dropped as either they have all unique value or only 1 value for whole data."
   ]
  },
  {
   "cell_type": "code",
   "execution_count": 14,
   "id": "799f8066",
   "metadata": {},
   "outputs": [
    {
     "name": "stdout",
     "output_type": "stream",
     "text": [
      "Shape of \u001b[1mTrain Data\u001b[0m is 100766 rows and 44 columns.\n"
     ]
    }
   ],
   "source": [
    "traindata.drop(['encounter_id', 'examide', 'citoglipton'], axis= 1, inplace = True)\n",
    "print(\"Shape of \\033[1mTrain Data\\033[0m is {} rows and {} columns.\".format(*traindata.shape))"
   ]
  },
  {
   "cell_type": "markdown",
   "id": "8eb57eb0",
   "metadata": {},
   "source": [
    "<b>There are some \"?\" values in dataset. Let's calculate the count of these values.</b>"
   ]
  },
  {
   "cell_type": "code",
   "execution_count": 15,
   "id": "eec487fd",
   "metadata": {},
   "outputs": [
    {
     "name": "stdout",
     "output_type": "stream",
     "text": [
      "patient_nbr : 0\n",
      "race : 2234\n",
      "gender : 0\n",
      "age : 0\n",
      "weight : 97606\n",
      "admission_type_id : 0\n",
      "discharge_disposition_id : 0\n",
      "admission_source_id : 0\n",
      "time_in_hospital : 0\n",
      "payer_code : 40115\n",
      "medical_specialty : 49269\n",
      "num_lab_procedures : 0\n",
      "num_procedures : 0\n",
      "num_medications : 0\n",
      "number_outpatient : 0\n",
      "number_emergency : 0\n",
      "number_inpatient : 0\n",
      "number_diagnoses : 0\n",
      "max_glu_serum : 0\n",
      "A1Cresult : 0\n",
      "metformin : 0\n",
      "repaglinide : 0\n",
      "nateglinide : 0\n",
      "chlorpropamide : 0\n",
      "glimepiride : 0\n",
      "acetohexamide : 0\n",
      "glipizide : 0\n",
      "glyburide : 0\n",
      "tolbutamide : 0\n",
      "pioglitazone : 0\n",
      "rosiglitazone : 0\n",
      "acarbose : 0\n",
      "miglitol : 0\n",
      "troglitazone : 0\n",
      "tolazamide : 0\n",
      "insulin : 0\n",
      "glyburide-metformin : 0\n",
      "glipizide-metformin : 0\n",
      "glimepiride-pioglitazone : 0\n",
      "metformin-rosiglitazone : 0\n",
      "metformin-pioglitazone : 0\n",
      "change : 0\n",
      "diabetesMed : 0\n",
      "readmitted : 0\n"
     ]
    }
   ],
   "source": [
    "for i in traindata.columns:\n",
    "    print(i,\":\",traindata[traindata[i]=='?'][i].count())"
   ]
  },
  {
   "cell_type": "markdown",
   "id": "17e2f84a",
   "metadata": {},
   "source": [
    "- Only 4 columns i.e. \"Race, Weight, Payers Code and Medical Speciality\" have \"?\" values so, we can assumes these may be the missing values and we would need to handle them.\n",
    "\n",
    "<b>Since the patient_nbr is repeated multiple time which represents a patient is readmitted more than 1 time. We will add one more column in the given dataset to check the count of same.</b>"
   ]
  },
  {
   "cell_type": "code",
   "execution_count": 16,
   "id": "80367b47",
   "metadata": {},
   "outputs": [],
   "source": [
    "df = traindata.copy(deep=True)\n",
    "df = df.groupby(['patient_nbr', 'readmitted']).transform('count')"
   ]
  },
  {
   "cell_type": "code",
   "execution_count": 17,
   "id": "a29e67d3",
   "metadata": {},
   "outputs": [
    {
     "data": {
      "text/html": [
       "<div>\n",
       "<style scoped>\n",
       "    .dataframe tbody tr th:only-of-type {\n",
       "        vertical-align: middle;\n",
       "    }\n",
       "\n",
       "    .dataframe tbody tr th {\n",
       "        vertical-align: top;\n",
       "    }\n",
       "\n",
       "    .dataframe thead th {\n",
       "        text-align: right;\n",
       "    }\n",
       "</style>\n",
       "<table border=\"1\" class=\"dataframe\">\n",
       "  <thead>\n",
       "    <tr style=\"text-align: right;\">\n",
       "      <th></th>\n",
       "      <th>patient_nbr</th>\n",
       "      <th>race</th>\n",
       "      <th>gender</th>\n",
       "      <th>age</th>\n",
       "      <th>weight</th>\n",
       "      <th>admission_type_id</th>\n",
       "      <th>discharge_disposition_id</th>\n",
       "      <th>admission_source_id</th>\n",
       "      <th>time_in_hospital</th>\n",
       "      <th>payer_code</th>\n",
       "      <th>medical_specialty</th>\n",
       "      <th>num_lab_procedures</th>\n",
       "      <th>num_procedures</th>\n",
       "      <th>num_medications</th>\n",
       "      <th>number_outpatient</th>\n",
       "      <th>number_emergency</th>\n",
       "      <th>number_inpatient</th>\n",
       "      <th>number_diagnoses</th>\n",
       "      <th>max_glu_serum</th>\n",
       "      <th>A1Cresult</th>\n",
       "      <th>metformin</th>\n",
       "      <th>repaglinide</th>\n",
       "      <th>nateglinide</th>\n",
       "      <th>chlorpropamide</th>\n",
       "      <th>glimepiride</th>\n",
       "      <th>acetohexamide</th>\n",
       "      <th>glipizide</th>\n",
       "      <th>glyburide</th>\n",
       "      <th>tolbutamide</th>\n",
       "      <th>pioglitazone</th>\n",
       "      <th>rosiglitazone</th>\n",
       "      <th>acarbose</th>\n",
       "      <th>miglitol</th>\n",
       "      <th>troglitazone</th>\n",
       "      <th>tolazamide</th>\n",
       "      <th>insulin</th>\n",
       "      <th>glyburide-metformin</th>\n",
       "      <th>glipizide-metformin</th>\n",
       "      <th>glimepiride-pioglitazone</th>\n",
       "      <th>metformin-rosiglitazone</th>\n",
       "      <th>metformin-pioglitazone</th>\n",
       "      <th>change</th>\n",
       "      <th>diabetesMed</th>\n",
       "      <th>readmitted</th>\n",
       "      <th>count</th>\n",
       "    </tr>\n",
       "  </thead>\n",
       "  <tbody>\n",
       "    <tr>\n",
       "      <th>0</th>\n",
       "      <td>8222157</td>\n",
       "      <td>Caucasian</td>\n",
       "      <td>Female</td>\n",
       "      <td>[0-10)</td>\n",
       "      <td>?</td>\n",
       "      <td>6</td>\n",
       "      <td>25</td>\n",
       "      <td>1</td>\n",
       "      <td>1</td>\n",
       "      <td>?</td>\n",
       "      <td>Pediatrics-Endocrinology</td>\n",
       "      <td>41</td>\n",
       "      <td>0</td>\n",
       "      <td>1</td>\n",
       "      <td>0</td>\n",
       "      <td>0</td>\n",
       "      <td>0</td>\n",
       "      <td>1</td>\n",
       "      <td>None</td>\n",
       "      <td>None</td>\n",
       "      <td>No</td>\n",
       "      <td>No</td>\n",
       "      <td>No</td>\n",
       "      <td>No</td>\n",
       "      <td>No</td>\n",
       "      <td>No</td>\n",
       "      <td>No</td>\n",
       "      <td>No</td>\n",
       "      <td>No</td>\n",
       "      <td>No</td>\n",
       "      <td>No</td>\n",
       "      <td>No</td>\n",
       "      <td>No</td>\n",
       "      <td>No</td>\n",
       "      <td>No</td>\n",
       "      <td>No</td>\n",
       "      <td>No</td>\n",
       "      <td>No</td>\n",
       "      <td>No</td>\n",
       "      <td>No</td>\n",
       "      <td>No</td>\n",
       "      <td>No</td>\n",
       "      <td>No</td>\n",
       "      <td>0</td>\n",
       "      <td>1</td>\n",
       "    </tr>\n",
       "    <tr>\n",
       "      <th>1</th>\n",
       "      <td>55629189</td>\n",
       "      <td>Caucasian</td>\n",
       "      <td>Female</td>\n",
       "      <td>[10-20)</td>\n",
       "      <td>?</td>\n",
       "      <td>1</td>\n",
       "      <td>1</td>\n",
       "      <td>7</td>\n",
       "      <td>3</td>\n",
       "      <td>?</td>\n",
       "      <td>?</td>\n",
       "      <td>59</td>\n",
       "      <td>0</td>\n",
       "      <td>18</td>\n",
       "      <td>0</td>\n",
       "      <td>0</td>\n",
       "      <td>0</td>\n",
       "      <td>9</td>\n",
       "      <td>None</td>\n",
       "      <td>None</td>\n",
       "      <td>No</td>\n",
       "      <td>No</td>\n",
       "      <td>No</td>\n",
       "      <td>No</td>\n",
       "      <td>No</td>\n",
       "      <td>No</td>\n",
       "      <td>No</td>\n",
       "      <td>No</td>\n",
       "      <td>No</td>\n",
       "      <td>No</td>\n",
       "      <td>No</td>\n",
       "      <td>No</td>\n",
       "      <td>No</td>\n",
       "      <td>No</td>\n",
       "      <td>No</td>\n",
       "      <td>Up</td>\n",
       "      <td>No</td>\n",
       "      <td>No</td>\n",
       "      <td>No</td>\n",
       "      <td>No</td>\n",
       "      <td>No</td>\n",
       "      <td>Ch</td>\n",
       "      <td>Yes</td>\n",
       "      <td>1</td>\n",
       "      <td>1</td>\n",
       "    </tr>\n",
       "  </tbody>\n",
       "</table>\n",
       "</div>"
      ],
      "text/plain": [
       "   patient_nbr       race  gender      age weight  admission_type_id  \\\n",
       "0      8222157  Caucasian  Female   [0-10)      ?                  6   \n",
       "1     55629189  Caucasian  Female  [10-20)      ?                  1   \n",
       "\n",
       "   discharge_disposition_id  admission_source_id  time_in_hospital payer_code  \\\n",
       "0                        25                    1                 1          ?   \n",
       "1                         1                    7                 3          ?   \n",
       "\n",
       "          medical_specialty  num_lab_procedures  num_procedures  \\\n",
       "0  Pediatrics-Endocrinology                  41               0   \n",
       "1                         ?                  59               0   \n",
       "\n",
       "   num_medications  number_outpatient  number_emergency  number_inpatient  \\\n",
       "0                1                  0                 0                 0   \n",
       "1               18                  0                 0                 0   \n",
       "\n",
       "   number_diagnoses max_glu_serum A1Cresult metformin repaglinide nateglinide  \\\n",
       "0                 1          None      None        No          No          No   \n",
       "1                 9          None      None        No          No          No   \n",
       "\n",
       "  chlorpropamide glimepiride acetohexamide glipizide glyburide tolbutamide  \\\n",
       "0             No          No            No        No        No          No   \n",
       "1             No          No            No        No        No          No   \n",
       "\n",
       "  pioglitazone rosiglitazone acarbose miglitol troglitazone tolazamide  \\\n",
       "0           No            No       No       No           No         No   \n",
       "1           No            No       No       No           No         No   \n",
       "\n",
       "  insulin glyburide-metformin glipizide-metformin glimepiride-pioglitazone  \\\n",
       "0      No                  No                  No                       No   \n",
       "1      Up                  No                  No                       No   \n",
       "\n",
       "  metformin-rosiglitazone metformin-pioglitazone change diabetesMed  \\\n",
       "0                      No                     No     No          No   \n",
       "1                      No                     No     Ch         Yes   \n",
       "\n",
       "   readmitted  count  \n",
       "0           0      1  \n",
       "1           1      1  "
      ]
     },
     "execution_count": 17,
     "metadata": {},
     "output_type": "execute_result"
    }
   ],
   "source": [
    "traindata['count'] = df['diabetesMed']\n",
    "traindata.head(2)"
   ]
  },
  {
   "cell_type": "code",
   "execution_count": 18,
   "id": "320d0baa",
   "metadata": {},
   "outputs": [
    {
     "name": "stdout",
     "output_type": "stream",
     "text": [
      "Shape of \u001b[1mTrain Data\u001b[0m is 100766 rows and 45 columns.\n"
     ]
    }
   ],
   "source": [
    "print(\"Shape of \\033[1mTrain Data\\033[0m is {} rows and {} columns.\".format(*traindata.shape))"
   ]
  },
  {
   "cell_type": "markdown",
   "id": "db74c604",
   "metadata": {},
   "source": [
    "### Mapping the Values as per Map Data\n",
    "    \n",
    "We are provided with an additional dataset which has mapping value for three columns i.e. \"admission_type_id\", \"discharge_disposition_id\" and\" admission_source_id\". We will map these values in our dataset. \n",
    "\n",
    "### 1. Admission Type\n",
    "\n",
    "Following are the given categories to be mapped in Dataset:\n",
    "\n",
    "{1.0:\"Emergency\", 2.0:\"Urgent\", 3.0:\"Elective\", 4.0:\"New Born\", 5.0:\"Not Available\", 6.0:\"Null\", 7.0:\"Trauma Center\", 8.0:\"Not Mapped\"}\n",
    "\n",
    "* As we can see Emergency and Urgent falls under same category so we will use the similar value to map them i.e. Emergency\n",
    "* Not Available, Null and Not Mapped can be categorised as one category i.e. Not Available\n",
    "\n",
    "Instead of mapping 8 different values we have reduced them into 5 categories.\n",
    "\n",
    "<b>Before Mapping Count Plot</b>"
   ]
  },
  {
   "cell_type": "code",
   "execution_count": 19,
   "id": "959b4ff6",
   "metadata": {},
   "outputs": [
    {
     "data": {
      "image/png": "[encoded data removed]",
      "text/plain": [
       "<Figure size 432x288 with 1 Axes>"
      ]
     },
     "metadata": {
      "needs_background": "light"
     },
     "output_type": "display_data"
    },
    {
     "name": "stdout",
     "output_type": "stream",
     "text": [
      "Distribution of Admission ID\n",
      "1    52.933529\n",
      "3    18.545938\n",
      "2    18.200584\n",
      "6     5.224977\n",
      "5     4.748626\n",
      "8     0.315583\n",
      "7     0.020840\n",
      "4     0.009924\n",
      "Name: admission_type_id, dtype: float64\n"
     ]
    }
   ],
   "source": [
    "sns.countplot(x = \"admission_type_id\", data = traindata)\n",
    "plt.title(\"Distribution of Admission ID\")\n",
    "plt.show()\n",
    "\n",
    "print(\"Distribution of Admission ID\")\n",
    "print(traindata.admission_type_id.value_counts(normalize=True)*100)"
   ]
  },
  {
   "cell_type": "markdown",
   "id": "ffc02981",
   "metadata": {},
   "source": [
    "<b>Mapping the values and After Mapping Countplot</b>"
   ]
  },
  {
   "cell_type": "code",
   "execution_count": 20,
   "id": "18c64165",
   "metadata": {},
   "outputs": [
    {
     "data": {
      "image/png": "[encoded data removed]",
      "text/plain": [
       "<Figure size 432x288 with 1 Axes>"
      ]
     },
     "metadata": {
      "needs_background": "light"
     },
     "output_type": "display_data"
    },
    {
     "name": "stdout",
     "output_type": "stream",
     "text": [
      "Distribution of Admission ID\n",
      "Emergency        71.134113\n",
      "Elective         18.545938\n",
      "Not Available    10.289185\n",
      "Trauma Center     0.020840\n",
      "New Born          0.009924\n",
      "Name: admission_type_id, dtype: float64\n"
     ]
    }
   ],
   "source": [
    "admission_type_id = {1.0:\"Emergency\", 2.0:\"Emergency\", 3.0:\"Elective\", 4.0:\"New Born\",\n",
    "          5.0:\"Not Available\", 6.0:\"Not Available\", 7.0:\"Trauma Center\", 8.0:\"Not Available\"}\n",
    "\n",
    "traindata.admission_type_id = traindata.admission_type_id.replace(admission_type_id)\n",
    "\n",
    "sns.countplot(x = \"admission_type_id\", data = traindata)\n",
    "plt.title(\"Distribution of Admission ID\")\n",
    "plt.show()\n",
    "\n",
    "print(\"Distribution of Admission ID\")\n",
    "print(traindata.admission_type_id.value_counts(normalize=True)*100)"
   ]
  },
  {
   "cell_type": "markdown",
   "id": "3faf854a",
   "metadata": {},
   "source": [
    "### 2. Discharge Disposition\n",
    "\n",
    "Following are the given categories to be mapped in Dataset:\n",
    "\n",
    "{1: 'Discharged to home', 2: 'Discharged/transferred to another short term hospital',\n",
    "3: 'Discharged/transferred to SNF', 4: 'Discharged/transferred to ICF',\n",
    "5: 'Discharged/transferred to another type of inpatient care institution', 6: 'Discharged/transferred to home with home health service', 7: 'Left AMA', 8: 'Discharged/transferred to home under care of Home IV provider',\n",
    "9: 'Admitted as an inpatient to this hospital', 10: 'Neonate discharged to another hospital for neonatal aftercare',\n",
    "11: 'Expired', 12: 'Still patient or expected to return for outpatient services', 13: 'Hospice / home',\n",
    "14: 'Hospice / medical facility', 15: 'Discharged/transferred within this institution to Medicare approved swing bed',\n",
    "16: 'Discharged/transferred/referred another institution for outpatient services',\n",
    "17: 'Discharged/transferred/referred to this institution for outpatient services', 18: 'Missing',\n",
    "19: 'Expired at home. Medicaid only, hospice.', 20: 'Expired in a medical facility. Medicaid only, hospice.',\n",
    "21: 'Expired, place unknown. Medicaid only, hospice.',\n",
    "22: 'Discharged/transferred to another rehab fac including rehab units of a hospital .',\n",
    "23: 'Discharged/transferred to a long term care hospital.',\n",
    "24: 'Discharged/transferred to a nursing facility certified under Medicaid but not certified under Medicare.',\n",
    "25: 'Not Mapped', 26: 'Unknown/Invalid',\n",
    "30: 'Discharged/transferred to another Type of Health Care Institution not Defined Elsewhere',\n",
    "27: 'Discharged/transferred to a federal health care facility.',\n",
    "28: 'Discharged/transferred/referred to a psychiatric hospital of psychiatric distinct part unit of a hospital',\n",
    "29: 'Discharged/transferred to a Critical Access Hospital (CAH).'}\n",
    "\n",
    "We can see, patients are divided into 4 categories, discharged to home, transferred to another medical facility, dead, or other. We will map these values according to these 4 categories only i.e.\n",
    "> - discharged to home\n",
    "> - transferred\n",
    "> - dead\n",
    "> - other\n",
    "\n",
    "<b>Before Mapping Count Plot</b>"
   ]
  },
  {
   "cell_type": "code",
   "execution_count": 21,
   "id": "3a61598c",
   "metadata": {},
   "outputs": [
    {
     "data": {
      "image/png": "[encoded data removed]",
      "text/plain": [
       "<Figure size 432x288 with 1 Axes>"
      ]
     },
     "metadata": {
      "needs_background": "light"
     },
     "output_type": "display_data"
    },
    {
     "name": "stdout",
     "output_type": "stream",
     "text": [
      "Distribution of Discharge Disposition\n",
      "1     59.166782\n",
      "3     13.672270\n",
      "6     12.676895\n",
      "18     3.662942\n",
      "2      2.093960\n",
      "22     1.966933\n",
      "11     1.618602\n",
      "5      1.169045\n",
      "25     0.979497\n",
      "4      0.802850\n",
      "7      0.613302\n",
      "23     0.404898\n",
      "13     0.389020\n",
      "14     0.360241\n",
      "28     0.136951\n",
      "8      0.107179\n",
      "15     0.062521\n",
      "24     0.047635\n",
      "9      0.020840\n",
      "17     0.013894\n",
      "16     0.010916\n",
      "19     0.006947\n",
      "10     0.005954\n",
      "27     0.004962\n",
      "12     0.002977\n",
      "20     0.001985\n",
      "Name: discharge_disposition_id, dtype: float64\n"
     ]
    }
   ],
   "source": [
    "sns.countplot(x = \"discharge_disposition_id\", data = traindata)\n",
    "plt.title(\"Distribution of Discharge Disposition\")\n",
    "plt.show()\n",
    "\n",
    "print(\"Distribution of Discharge Disposition\")\n",
    "print(traindata.discharge_disposition_id.value_counts(normalize=True)*100)"
   ]
  },
  {
   "cell_type": "markdown",
   "id": "101b92f2",
   "metadata": {},
   "source": [
    "<b>Mapping the values and After Mapping Countplot</b>"
   ]
  },
  {
   "cell_type": "code",
   "execution_count": 22,
   "id": "f74a1834",
   "metadata": {},
   "outputs": [
    {
     "data": {
      "image/png": "[encoded data removed]",
      "text/plain": [
       "<Figure size 432x288 with 1 Axes>"
      ]
     },
     "metadata": {
      "needs_background": "light"
     },
     "output_type": "display_data"
    },
    {
     "name": "stdout",
     "output_type": "stream",
     "text": [
      "Distribution of Discharge Disposition\n",
      "Discharged to home    72.953179\n",
      "Transferred           24.439791\n",
      "Dead                   1.627533\n",
      "Other                  0.979497\n",
      "Name: discharge_disposition_id, dtype: float64\n"
     ]
    }
   ],
   "source": [
    "discharge_disposition_id={1 : 'Discharged to home', 2 : 'Transferred', 3 : 'Transferred',4 : 'Transferred',\n",
    "                          5 : 'Transferred', 6 : 'Discharged to home', 7 : 'Discharged to home', 8 : 'Discharged to home',\n",
    "                          9 : 'Transferred', 10 : 'Transferred', 11 : 'Dead', 12 : 'Transferred',13 : 'Discharged to home',\n",
    "                          14 : 'Transferred', 15 : 'Transferred', 16 : 'Transferred', 17 : 'Transferred',18 : 'Transferred',\n",
    "                          19 : 'Dead', 20 : 'Dead', 21 : 'Dead', 22 : 'Transferred', 23 : 'Transferred', 24 : 'Transferred',\n",
    "                          25 : 'Other', 26 : 'Transferred', 30 : 'Transferred', 27 : 'Transferred', 28 : 'Transferred',\n",
    "                          29 : 'Transferred'}\n",
    "\n",
    "traindata.discharge_disposition_id = traindata.discharge_disposition_id.replace(discharge_disposition_id)\n",
    "\n",
    "sns.countplot(x = \"discharge_disposition_id\", data = traindata)\n",
    "plt.title(\"Distribution of Discharge Disposition\")\n",
    "plt.show()\n",
    "\n",
    "print(\"Distribution of Discharge Disposition\")\n",
    "print(traindata.discharge_disposition_id.value_counts(normalize=True)*100)"
   ]
  },
  {
   "cell_type": "markdown",
   "id": "a1613d57",
   "metadata": {},
   "source": [
    "###  3. Admission Source\t\n",
    "\n",
    "Following are the given categories to be mapped in Dataset:\n",
    "\n",
    "{1: Physician Referral, 2: Clinic Referral, 3: HMO Referral, 4: Transfer from a hospital, \n",
    "5: Transfer from a Skilled Nursing Facility (SNF), 6: Transfer from another health care facility, 7: Emergency Room,\n",
    "8: Court/Law Enforcement, 9: Not Available, 10: Transfer from critial access hospital, 11: Normal Delivery, 12: Premature Delivery, 13: Sick Baby, 14: Extramural Birth, 15: Not Available, 17: NULL, 18: Transfer From Another Home Health Agency,\n",
    "19: Readmission to Same Home Health Agency, 20: Not Mapped, 21: Unknown/Invalid, 22: Transfer from hospital inpt/same fac reslt in a sep claim, 23: Born inside this hospital, 24: Born outside this hospital, 25: Transfer from Ambulatory Surgery Center,\n",
    "26: Transfer from Hospice}\n",
    "\n",
    "We can see, admission source are divided into 5 categories, Referral, Transfer, Emergency Room, Other or New Born. We will map these values according to these 5 categories only i.e.\n",
    "\n",
    "> - Referral\n",
    "> - Transfer\n",
    "> - New Born\n",
    "> - Emergency Room\n",
    "> - Other\n",
    "\n",
    "<b>Before Mapping Count Plot</b>"
   ]
  },
  {
   "cell_type": "code",
   "execution_count": 23,
   "id": "b10c1d40",
   "metadata": {},
   "outputs": [
    {
     "data": {
      "image/png": "[encoded data removed]",
      "text/plain": [
       "<Figure size 432x288 with 1 Axes>"
      ]
     },
     "metadata": {
      "needs_background": "light"
     },
     "output_type": "display_data"
    },
    {
     "name": "stdout",
     "output_type": "stream",
     "text": [
      "Distribution of Admission Source\n",
      "7     56.375166\n",
      "1     29.089177\n",
      "17     6.710597\n",
      "4      3.146895\n",
      "6      2.241828\n",
      "2      1.094615\n",
      "5      0.832622\n",
      "3      0.185578\n",
      "20     0.159776\n",
      "9      0.123057\n",
      "8      0.015878\n",
      "22     0.010916\n",
      "10     0.007939\n",
      "11     0.001985\n",
      "14     0.001985\n",
      "13     0.000992\n",
      "25     0.000992\n",
      "Name: admission_source_id, dtype: float64\n"
     ]
    }
   ],
   "source": [
    "sns.countplot(x = \"admission_source_id\", data = traindata)\n",
    "plt.title(\"Distribution of Admission Source\")\n",
    "plt.show()\n",
    "\n",
    "print(\"Distribution of Admission Source\")\n",
    "print(traindata.admission_source_id.value_counts(normalize=True)*100)"
   ]
  },
  {
   "cell_type": "code",
   "execution_count": 24,
   "id": "c7e0a75e",
   "metadata": {},
   "outputs": [
    {
     "data": {
      "image/png": "[encoded data removed]",
      "text/plain": [
       "<Figure size 432x288 with 1 Axes>"
      ]
     },
     "metadata": {
      "needs_background": "light"
     },
     "output_type": "display_data"
    },
    {
     "name": "stdout",
     "output_type": "stream",
     "text": [
      "Distribution of Admission Source\n",
      "Emergency Room    56.375166\n",
      "Referral          30.369371\n",
      "Other              7.009309\n",
      "Transfer           6.241192\n",
      "New Born           0.004962\n",
      "Name: admission_source_id, dtype: float64\n"
     ]
    }
   ],
   "source": [
    "admission_source_id = {1: \"Referral\", 2: \"Referral\", 3: \"Referral\", 4: \"Transfer\", 5: \"Transfer\", 6: \"Transfer\", \n",
    "                       7: \"Emergency Room\", 8: \"Other\", 9: \"Other\", 10: \"Transfer\", 11: \"New Born\", 12: \"New Born\",\n",
    "                       13: \"New Born\", 14: \"New Born\", 15: \"Other\", 17: \"Other\",18: \"Transfer\", 19: \"Transfer\", \n",
    "                       20: \"Other\", 21: \"Other\", 22: \"Transfer\", 23: \"New Born\", 24: \"New Born\", \n",
    "                       25: \"Transfer\", 26: \"Transfer\"}\n",
    "\n",
    "traindata.admission_source_id = traindata.admission_source_id.replace(admission_source_id)\n",
    "\n",
    "sns.countplot(x = \"admission_source_id\", data = traindata)\n",
    "plt.title(\"Distribution of Admission Source\")\n",
    "plt.show()\n",
    "\n",
    "print(\"Distribution of Admission Source\")\n",
    "print(traindata.admission_source_id.value_counts(normalize=True)*100)"
   ]
  },
  {
   "cell_type": "markdown",
   "id": "7141f737",
   "metadata": {},
   "source": [
    "<b>Now, we have mapped all the values into our dataset. We will now try to handle the age category as there are 10 different classes into the same.\n",
    "\n",
    "Let's check the all categories.</b>"
   ]
  },
  {
   "cell_type": "code",
   "execution_count": 25,
   "id": "008787b4",
   "metadata": {},
   "outputs": [
    {
     "data": {
      "text/plain": [
       "array(['[0-10)', '[10-20)', '[20-30)', '[30-40)', '[40-50)', '[50-60)',\n",
       "       '[60-70)', '[70-80)', '[80-90)', '[90-100)'], dtype=object)"
      ]
     },
     "execution_count": 25,
     "metadata": {},
     "output_type": "execute_result"
    }
   ],
   "source": [
    "traindata['age'].unique()"
   ]
  },
  {
   "cell_type": "markdown",
   "id": "041719be",
   "metadata": {},
   "source": [
    "- There are 10 categries and each of them have a age bin of 10 years. Lets check the % of each class into the dataset."
   ]
  },
  {
   "cell_type": "code",
   "execution_count": 26,
   "id": "d7c97493",
   "metadata": {},
   "outputs": [
    {
     "data": {
      "text/plain": [
       "[70-80)     25.575095\n",
       "[60-70)     22.123534\n",
       "[50-60)     16.978941\n",
       "[80-90)     16.889625\n",
       "[40-50)      9.517099\n",
       "[30-40)      3.710577\n",
       "[90-100)     2.734057\n",
       "[20-30)      1.631503\n",
       "[10-20)      0.680785\n",
       "[0-10)       0.158784\n",
       "Name: age, dtype: float64"
      ]
     },
     "execution_count": 26,
     "metadata": {},
     "output_type": "execute_result"
    }
   ],
   "source": [
    "traindata.age.value_counts(normalize=True)*100"
   ]
  },
  {
   "cell_type": "markdown",
   "id": "5a650f84",
   "metadata": {},
   "source": [
    "<b>We will replace these values with the middle value of both number present.</b>"
   ]
  },
  {
   "cell_type": "code",
   "execution_count": 27,
   "id": "c7480298",
   "metadata": {},
   "outputs": [
    {
     "data": {
      "text/plain": [
       "75    25.575095\n",
       "65    22.123534\n",
       "55    16.978941\n",
       "85    16.889625\n",
       "45     9.517099\n",
       "35     3.710577\n",
       "95     2.734057\n",
       "25     1.631503\n",
       "15     0.680785\n",
       "5      0.158784\n",
       "Name: age, dtype: float64"
      ]
     },
     "execution_count": 27,
     "metadata": {},
     "output_type": "execute_result"
    }
   ],
   "source": [
    "for i in range(0,10):\n",
    "    traindata['age'] = traindata['age'].replace('['+str(10*i)+'-'+str(10*(i+1))+')', i*10+5)\n",
    "traindata.age.value_counts(normalize=True)*100"
   ]
  },
  {
   "cell_type": "markdown",
   "id": "f980a4eb",
   "metadata": {},
   "source": [
    "<b>We will drop weight, payer_code and medical_specialty columns as the missing value % in these columns are more than 50%.</b>"
   ]
  },
  {
   "cell_type": "code",
   "execution_count": 28,
   "id": "9172296a",
   "metadata": {},
   "outputs": [
    {
     "name": "stdout",
     "output_type": "stream",
     "text": [
      "Shape of \u001b[1mTrain Data\u001b[0m is 100766 rows and 42 columns.\n"
     ]
    }
   ],
   "source": [
    "traindata.drop([\"weight\", \"payer_code\", \"medical_specialty\"], axis = 1, inplace = True)\n",
    "print(\"Shape of \\033[1mTrain Data\\033[0m is {} rows and {} columns.\".format(*traindata.shape))"
   ]
  },
  {
   "cell_type": "markdown",
   "id": "b7abcbdd",
   "metadata": {},
   "source": [
    "<b>Columns number_outpatient and number_inpatient represents the number of patient visit to the hospital so, we can combine them into one column which will represent the number of total patients visit to the hospital.</b>"
   ]
  },
  {
   "cell_type": "code",
   "execution_count": 29,
   "id": "1d01e77d",
   "metadata": {},
   "outputs": [],
   "source": [
    "traindata['number_patients'] = traindata['number_outpatient'] + traindata['number_inpatient']"
   ]
  },
  {
   "cell_type": "markdown",
   "id": "eb682954",
   "metadata": {},
   "source": [
    "- We will not drop columns number_outpatient, number_emergency and number_inpatient as we now have a single columns for these column."
   ]
  },
  {
   "cell_type": "code",
   "execution_count": 30,
   "id": "d71774d4",
   "metadata": {},
   "outputs": [
    {
     "name": "stdout",
     "output_type": "stream",
     "text": [
      "Shape of \u001b[1mTrain Data\u001b[0m is 100766 rows and 41 columns.\n"
     ]
    },
    {
     "data": {
      "text/html": [
       "<div>\n",
       "<style scoped>\n",
       "    .dataframe tbody tr th:only-of-type {\n",
       "        vertical-align: middle;\n",
       "    }\n",
       "\n",
       "    .dataframe tbody tr th {\n",
       "        vertical-align: top;\n",
       "    }\n",
       "\n",
       "    .dataframe thead th {\n",
       "        text-align: right;\n",
       "    }\n",
       "</style>\n",
       "<table border=\"1\" class=\"dataframe\">\n",
       "  <thead>\n",
       "    <tr style=\"text-align: right;\">\n",
       "      <th></th>\n",
       "      <th>patient_nbr</th>\n",
       "      <th>race</th>\n",
       "      <th>gender</th>\n",
       "      <th>age</th>\n",
       "      <th>admission_type_id</th>\n",
       "      <th>discharge_disposition_id</th>\n",
       "      <th>admission_source_id</th>\n",
       "      <th>time_in_hospital</th>\n",
       "      <th>num_lab_procedures</th>\n",
       "      <th>num_procedures</th>\n",
       "      <th>num_medications</th>\n",
       "      <th>number_emergency</th>\n",
       "      <th>number_diagnoses</th>\n",
       "      <th>max_glu_serum</th>\n",
       "      <th>A1Cresult</th>\n",
       "      <th>metformin</th>\n",
       "      <th>repaglinide</th>\n",
       "      <th>nateglinide</th>\n",
       "      <th>chlorpropamide</th>\n",
       "      <th>glimepiride</th>\n",
       "      <th>acetohexamide</th>\n",
       "      <th>glipizide</th>\n",
       "      <th>glyburide</th>\n",
       "      <th>tolbutamide</th>\n",
       "      <th>pioglitazone</th>\n",
       "      <th>rosiglitazone</th>\n",
       "      <th>acarbose</th>\n",
       "      <th>miglitol</th>\n",
       "      <th>troglitazone</th>\n",
       "      <th>tolazamide</th>\n",
       "      <th>insulin</th>\n",
       "      <th>glyburide-metformin</th>\n",
       "      <th>glipizide-metformin</th>\n",
       "      <th>glimepiride-pioglitazone</th>\n",
       "      <th>metformin-rosiglitazone</th>\n",
       "      <th>metformin-pioglitazone</th>\n",
       "      <th>change</th>\n",
       "      <th>diabetesMed</th>\n",
       "      <th>readmitted</th>\n",
       "      <th>count</th>\n",
       "      <th>number_patients</th>\n",
       "    </tr>\n",
       "  </thead>\n",
       "  <tbody>\n",
       "    <tr>\n",
       "      <th>0</th>\n",
       "      <td>8222157</td>\n",
       "      <td>Caucasian</td>\n",
       "      <td>Female</td>\n",
       "      <td>5</td>\n",
       "      <td>Not Available</td>\n",
       "      <td>Other</td>\n",
       "      <td>Referral</td>\n",
       "      <td>1</td>\n",
       "      <td>41</td>\n",
       "      <td>0</td>\n",
       "      <td>1</td>\n",
       "      <td>0</td>\n",
       "      <td>1</td>\n",
       "      <td>None</td>\n",
       "      <td>None</td>\n",
       "      <td>No</td>\n",
       "      <td>No</td>\n",
       "      <td>No</td>\n",
       "      <td>No</td>\n",
       "      <td>No</td>\n",
       "      <td>No</td>\n",
       "      <td>No</td>\n",
       "      <td>No</td>\n",
       "      <td>No</td>\n",
       "      <td>No</td>\n",
       "      <td>No</td>\n",
       "      <td>No</td>\n",
       "      <td>No</td>\n",
       "      <td>No</td>\n",
       "      <td>No</td>\n",
       "      <td>No</td>\n",
       "      <td>No</td>\n",
       "      <td>No</td>\n",
       "      <td>No</td>\n",
       "      <td>No</td>\n",
       "      <td>No</td>\n",
       "      <td>No</td>\n",
       "      <td>No</td>\n",
       "      <td>0</td>\n",
       "      <td>1</td>\n",
       "      <td>0</td>\n",
       "    </tr>\n",
       "    <tr>\n",
       "      <th>1</th>\n",
       "      <td>55629189</td>\n",
       "      <td>Caucasian</td>\n",
       "      <td>Female</td>\n",
       "      <td>15</td>\n",
       "      <td>Emergency</td>\n",
       "      <td>Discharged to home</td>\n",
       "      <td>Emergency Room</td>\n",
       "      <td>3</td>\n",
       "      <td>59</td>\n",
       "      <td>0</td>\n",
       "      <td>18</td>\n",
       "      <td>0</td>\n",
       "      <td>9</td>\n",
       "      <td>None</td>\n",
       "      <td>None</td>\n",
       "      <td>No</td>\n",
       "      <td>No</td>\n",
       "      <td>No</td>\n",
       "      <td>No</td>\n",
       "      <td>No</td>\n",
       "      <td>No</td>\n",
       "      <td>No</td>\n",
       "      <td>No</td>\n",
       "      <td>No</td>\n",
       "      <td>No</td>\n",
       "      <td>No</td>\n",
       "      <td>No</td>\n",
       "      <td>No</td>\n",
       "      <td>No</td>\n",
       "      <td>No</td>\n",
       "      <td>Up</td>\n",
       "      <td>No</td>\n",
       "      <td>No</td>\n",
       "      <td>No</td>\n",
       "      <td>No</td>\n",
       "      <td>No</td>\n",
       "      <td>Ch</td>\n",
       "      <td>Yes</td>\n",
       "      <td>1</td>\n",
       "      <td>1</td>\n",
       "      <td>0</td>\n",
       "    </tr>\n",
       "    <tr>\n",
       "      <th>2</th>\n",
       "      <td>86047875</td>\n",
       "      <td>AfricanAmerican</td>\n",
       "      <td>Female</td>\n",
       "      <td>25</td>\n",
       "      <td>Emergency</td>\n",
       "      <td>Discharged to home</td>\n",
       "      <td>Emergency Room</td>\n",
       "      <td>2</td>\n",
       "      <td>11</td>\n",
       "      <td>5</td>\n",
       "      <td>13</td>\n",
       "      <td>0</td>\n",
       "      <td>6</td>\n",
       "      <td>None</td>\n",
       "      <td>None</td>\n",
       "      <td>No</td>\n",
       "      <td>No</td>\n",
       "      <td>No</td>\n",
       "      <td>No</td>\n",
       "      <td>No</td>\n",
       "      <td>No</td>\n",
       "      <td>Steady</td>\n",
       "      <td>No</td>\n",
       "      <td>No</td>\n",
       "      <td>No</td>\n",
       "      <td>No</td>\n",
       "      <td>No</td>\n",
       "      <td>No</td>\n",
       "      <td>No</td>\n",
       "      <td>No</td>\n",
       "      <td>No</td>\n",
       "      <td>No</td>\n",
       "      <td>No</td>\n",
       "      <td>No</td>\n",
       "      <td>No</td>\n",
       "      <td>No</td>\n",
       "      <td>No</td>\n",
       "      <td>Yes</td>\n",
       "      <td>0</td>\n",
       "      <td>1</td>\n",
       "      <td>3</td>\n",
       "    </tr>\n",
       "    <tr>\n",
       "      <th>3</th>\n",
       "      <td>82442376</td>\n",
       "      <td>Caucasian</td>\n",
       "      <td>Male</td>\n",
       "      <td>35</td>\n",
       "      <td>Emergency</td>\n",
       "      <td>Discharged to home</td>\n",
       "      <td>Emergency Room</td>\n",
       "      <td>2</td>\n",
       "      <td>44</td>\n",
       "      <td>1</td>\n",
       "      <td>16</td>\n",
       "      <td>0</td>\n",
       "      <td>7</td>\n",
       "      <td>None</td>\n",
       "      <td>None</td>\n",
       "      <td>No</td>\n",
       "      <td>No</td>\n",
       "      <td>No</td>\n",
       "      <td>No</td>\n",
       "      <td>No</td>\n",
       "      <td>No</td>\n",
       "      <td>No</td>\n",
       "      <td>No</td>\n",
       "      <td>No</td>\n",
       "      <td>No</td>\n",
       "      <td>No</td>\n",
       "      <td>No</td>\n",
       "      <td>No</td>\n",
       "      <td>No</td>\n",
       "      <td>No</td>\n",
       "      <td>Up</td>\n",
       "      <td>No</td>\n",
       "      <td>No</td>\n",
       "      <td>No</td>\n",
       "      <td>No</td>\n",
       "      <td>No</td>\n",
       "      <td>Ch</td>\n",
       "      <td>Yes</td>\n",
       "      <td>0</td>\n",
       "      <td>1</td>\n",
       "      <td>0</td>\n",
       "    </tr>\n",
       "    <tr>\n",
       "      <th>4</th>\n",
       "      <td>42519267</td>\n",
       "      <td>Caucasian</td>\n",
       "      <td>Male</td>\n",
       "      <td>45</td>\n",
       "      <td>Emergency</td>\n",
       "      <td>Discharged to home</td>\n",
       "      <td>Emergency Room</td>\n",
       "      <td>1</td>\n",
       "      <td>51</td>\n",
       "      <td>0</td>\n",
       "      <td>8</td>\n",
       "      <td>0</td>\n",
       "      <td>5</td>\n",
       "      <td>None</td>\n",
       "      <td>None</td>\n",
       "      <td>No</td>\n",
       "      <td>No</td>\n",
       "      <td>No</td>\n",
       "      <td>No</td>\n",
       "      <td>No</td>\n",
       "      <td>No</td>\n",
       "      <td>Steady</td>\n",
       "      <td>No</td>\n",
       "      <td>No</td>\n",
       "      <td>No</td>\n",
       "      <td>No</td>\n",
       "      <td>No</td>\n",
       "      <td>No</td>\n",
       "      <td>No</td>\n",
       "      <td>No</td>\n",
       "      <td>Steady</td>\n",
       "      <td>No</td>\n",
       "      <td>No</td>\n",
       "      <td>No</td>\n",
       "      <td>No</td>\n",
       "      <td>No</td>\n",
       "      <td>Ch</td>\n",
       "      <td>Yes</td>\n",
       "      <td>0</td>\n",
       "      <td>1</td>\n",
       "      <td>0</td>\n",
       "    </tr>\n",
       "  </tbody>\n",
       "</table>\n",
       "</div>"
      ],
      "text/plain": [
       "   patient_nbr             race  gender  age admission_type_id  \\\n",
       "0      8222157        Caucasian  Female    5     Not Available   \n",
       "1     55629189        Caucasian  Female   15         Emergency   \n",
       "2     86047875  AfricanAmerican  Female   25         Emergency   \n",
       "3     82442376        Caucasian    Male   35         Emergency   \n",
       "4     42519267        Caucasian    Male   45         Emergency   \n",
       "\n",
       "  discharge_disposition_id admission_source_id  time_in_hospital  \\\n",
       "0                    Other            Referral                 1   \n",
       "1       Discharged to home      Emergency Room                 3   \n",
       "2       Discharged to home      Emergency Room                 2   \n",
       "3       Discharged to home      Emergency Room                 2   \n",
       "4       Discharged to home      Emergency Room                 1   \n",
       "\n",
       "   num_lab_procedures  num_procedures  num_medications  number_emergency  \\\n",
       "0                  41               0                1                 0   \n",
       "1                  59               0               18                 0   \n",
       "2                  11               5               13                 0   \n",
       "3                  44               1               16                 0   \n",
       "4                  51               0                8                 0   \n",
       "\n",
       "   number_diagnoses max_glu_serum A1Cresult metformin repaglinide nateglinide  \\\n",
       "0                 1          None      None        No          No          No   \n",
       "1                 9          None      None        No          No          No   \n",
       "2                 6          None      None        No          No          No   \n",
       "3                 7          None      None        No          No          No   \n",
       "4                 5          None      None        No          No          No   \n",
       "\n",
       "  chlorpropamide glimepiride acetohexamide glipizide glyburide tolbutamide  \\\n",
       "0             No          No            No        No        No          No   \n",
       "1             No          No            No        No        No          No   \n",
       "2             No          No            No    Steady        No          No   \n",
       "3             No          No            No        No        No          No   \n",
       "4             No          No            No    Steady        No          No   \n",
       "\n",
       "  pioglitazone rosiglitazone acarbose miglitol troglitazone tolazamide  \\\n",
       "0           No            No       No       No           No         No   \n",
       "1           No            No       No       No           No         No   \n",
       "2           No            No       No       No           No         No   \n",
       "3           No            No       No       No           No         No   \n",
       "4           No            No       No       No           No         No   \n",
       "\n",
       "  insulin glyburide-metformin glipizide-metformin glimepiride-pioglitazone  \\\n",
       "0      No                  No                  No                       No   \n",
       "1      Up                  No                  No                       No   \n",
       "2      No                  No                  No                       No   \n",
       "3      Up                  No                  No                       No   \n",
       "4  Steady                  No                  No                       No   \n",
       "\n",
       "  metformin-rosiglitazone metformin-pioglitazone change diabetesMed  \\\n",
       "0                      No                     No     No          No   \n",
       "1                      No                     No     Ch         Yes   \n",
       "2                      No                     No     No         Yes   \n",
       "3                      No                     No     Ch         Yes   \n",
       "4                      No                     No     Ch         Yes   \n",
       "\n",
       "   readmitted  count  number_patients  \n",
       "0           0      1                0  \n",
       "1           1      1                0  \n",
       "2           0      1                3  \n",
       "3           0      1                0  \n",
       "4           0      1                0  "
      ]
     },
     "execution_count": 30,
     "metadata": {},
     "output_type": "execute_result"
    }
   ],
   "source": [
    "traindata.drop(['number_outpatient', 'number_inpatient'], axis = 1, inplace = True)\n",
    "print(\"Shape of \\033[1mTrain Data\\033[0m is {} rows and {} columns.\".format(*traindata.shape))\n",
    "traindata.head()"
   ]
  },
  {
   "cell_type": "markdown",
   "id": "91455ec4",
   "metadata": {},
   "source": [
    "<b>There are 23 columns for medicine. There are 7 columns which have two classes i.e. \"No\" and \"Steady\" and 13 columns with 4 classes i.e. \"No\", \"Up\", \"Down\" and \"Steady\" and only 1 column with \"No\", \"Up\" and \"Steady\". We will filter them out first and count the number of classes in each column row wise.</b>"
   ]
  },
  {
   "cell_type": "code",
   "execution_count": 31,
   "id": "a7fdc47b",
   "metadata": {},
   "outputs": [],
   "source": [
    "df = traindata[['metformin','repaglinide', 'nateglinide', 'chlorpropamide', 'glimepiride','acetohexamide', 'glipizide', \n",
    "                'glyburide', 'tolbutamide','pioglitazone', 'rosiglitazone', 'acarbose', 'miglitol', 'troglitazone',\n",
    "                'tolazamide', 'glyburide-metformin', 'glipizide-metformin','glimepiride-pioglitazone',\n",
    "                'metformin-rosiglitazone','metformin-pioglitazone', \"insulin\"]]"
   ]
  },
  {
   "cell_type": "code",
   "execution_count": 32,
   "id": "01bde5ec",
   "metadata": {},
   "outputs": [],
   "source": [
    "def med_count(df):\n",
    "    df['Steady'] = np.sum(df == \"Steady\")\n",
    "    df['No'] = np.sum(df == \"No\")\n",
    "    df['Up'] = np.sum(df =='Up')\n",
    "    df['Down'] = np.sum(df =='Down')\n",
    "    return df"
   ]
  },
  {
   "cell_type": "code",
   "execution_count": 33,
   "id": "6602c0c4",
   "metadata": {},
   "outputs": [
    {
     "data": {
      "text/html": [
       "<div>\n",
       "<style scoped>\n",
       "    .dataframe tbody tr th:only-of-type {\n",
       "        vertical-align: middle;\n",
       "    }\n",
       "\n",
       "    .dataframe tbody tr th {\n",
       "        vertical-align: top;\n",
       "    }\n",
       "\n",
       "    .dataframe thead th {\n",
       "        text-align: right;\n",
       "    }\n",
       "</style>\n",
       "<table border=\"1\" class=\"dataframe\">\n",
       "  <thead>\n",
       "    <tr style=\"text-align: right;\">\n",
       "      <th></th>\n",
       "      <th>metformin</th>\n",
       "      <th>repaglinide</th>\n",
       "      <th>nateglinide</th>\n",
       "      <th>chlorpropamide</th>\n",
       "      <th>glimepiride</th>\n",
       "      <th>acetohexamide</th>\n",
       "      <th>glipizide</th>\n",
       "      <th>glyburide</th>\n",
       "      <th>tolbutamide</th>\n",
       "      <th>pioglitazone</th>\n",
       "      <th>rosiglitazone</th>\n",
       "      <th>acarbose</th>\n",
       "      <th>miglitol</th>\n",
       "      <th>troglitazone</th>\n",
       "      <th>tolazamide</th>\n",
       "      <th>glyburide-metformin</th>\n",
       "      <th>glipizide-metformin</th>\n",
       "      <th>glimepiride-pioglitazone</th>\n",
       "      <th>metformin-rosiglitazone</th>\n",
       "      <th>metformin-pioglitazone</th>\n",
       "      <th>insulin</th>\n",
       "      <th>Steady</th>\n",
       "      <th>No</th>\n",
       "      <th>Up</th>\n",
       "      <th>Down</th>\n",
       "    </tr>\n",
       "  </thead>\n",
       "  <tbody>\n",
       "    <tr>\n",
       "      <th>0</th>\n",
       "      <td>No</td>\n",
       "      <td>No</td>\n",
       "      <td>No</td>\n",
       "      <td>No</td>\n",
       "      <td>No</td>\n",
       "      <td>No</td>\n",
       "      <td>No</td>\n",
       "      <td>No</td>\n",
       "      <td>No</td>\n",
       "      <td>No</td>\n",
       "      <td>No</td>\n",
       "      <td>No</td>\n",
       "      <td>No</td>\n",
       "      <td>No</td>\n",
       "      <td>No</td>\n",
       "      <td>No</td>\n",
       "      <td>No</td>\n",
       "      <td>No</td>\n",
       "      <td>No</td>\n",
       "      <td>No</td>\n",
       "      <td>No</td>\n",
       "      <td>0</td>\n",
       "      <td>21</td>\n",
       "      <td>0</td>\n",
       "      <td>0</td>\n",
       "    </tr>\n",
       "    <tr>\n",
       "      <th>1</th>\n",
       "      <td>No</td>\n",
       "      <td>No</td>\n",
       "      <td>No</td>\n",
       "      <td>No</td>\n",
       "      <td>No</td>\n",
       "      <td>No</td>\n",
       "      <td>No</td>\n",
       "      <td>No</td>\n",
       "      <td>No</td>\n",
       "      <td>No</td>\n",
       "      <td>No</td>\n",
       "      <td>No</td>\n",
       "      <td>No</td>\n",
       "      <td>No</td>\n",
       "      <td>No</td>\n",
       "      <td>No</td>\n",
       "      <td>No</td>\n",
       "      <td>No</td>\n",
       "      <td>No</td>\n",
       "      <td>No</td>\n",
       "      <td>Up</td>\n",
       "      <td>0</td>\n",
       "      <td>20</td>\n",
       "      <td>1</td>\n",
       "      <td>0</td>\n",
       "    </tr>\n",
       "    <tr>\n",
       "      <th>2</th>\n",
       "      <td>No</td>\n",
       "      <td>No</td>\n",
       "      <td>No</td>\n",
       "      <td>No</td>\n",
       "      <td>No</td>\n",
       "      <td>No</td>\n",
       "      <td>Steady</td>\n",
       "      <td>No</td>\n",
       "      <td>No</td>\n",
       "      <td>No</td>\n",
       "      <td>No</td>\n",
       "      <td>No</td>\n",
       "      <td>No</td>\n",
       "      <td>No</td>\n",
       "      <td>No</td>\n",
       "      <td>No</td>\n",
       "      <td>No</td>\n",
       "      <td>No</td>\n",
       "      <td>No</td>\n",
       "      <td>No</td>\n",
       "      <td>No</td>\n",
       "      <td>1</td>\n",
       "      <td>20</td>\n",
       "      <td>0</td>\n",
       "      <td>0</td>\n",
       "    </tr>\n",
       "    <tr>\n",
       "      <th>3</th>\n",
       "      <td>No</td>\n",
       "      <td>No</td>\n",
       "      <td>No</td>\n",
       "      <td>No</td>\n",
       "      <td>No</td>\n",
       "      <td>No</td>\n",
       "      <td>No</td>\n",
       "      <td>No</td>\n",
       "      <td>No</td>\n",
       "      <td>No</td>\n",
       "      <td>No</td>\n",
       "      <td>No</td>\n",
       "      <td>No</td>\n",
       "      <td>No</td>\n",
       "      <td>No</td>\n",
       "      <td>No</td>\n",
       "      <td>No</td>\n",
       "      <td>No</td>\n",
       "      <td>No</td>\n",
       "      <td>No</td>\n",
       "      <td>Up</td>\n",
       "      <td>0</td>\n",
       "      <td>20</td>\n",
       "      <td>1</td>\n",
       "      <td>0</td>\n",
       "    </tr>\n",
       "    <tr>\n",
       "      <th>4</th>\n",
       "      <td>No</td>\n",
       "      <td>No</td>\n",
       "      <td>No</td>\n",
       "      <td>No</td>\n",
       "      <td>No</td>\n",
       "      <td>No</td>\n",
       "      <td>Steady</td>\n",
       "      <td>No</td>\n",
       "      <td>No</td>\n",
       "      <td>No</td>\n",
       "      <td>No</td>\n",
       "      <td>No</td>\n",
       "      <td>No</td>\n",
       "      <td>No</td>\n",
       "      <td>No</td>\n",
       "      <td>No</td>\n",
       "      <td>No</td>\n",
       "      <td>No</td>\n",
       "      <td>No</td>\n",
       "      <td>No</td>\n",
       "      <td>Steady</td>\n",
       "      <td>2</td>\n",
       "      <td>19</td>\n",
       "      <td>0</td>\n",
       "      <td>0</td>\n",
       "    </tr>\n",
       "  </tbody>\n",
       "</table>\n",
       "</div>"
      ],
      "text/plain": [
       "  metformin repaglinide nateglinide chlorpropamide glimepiride acetohexamide  \\\n",
       "0        No          No          No             No          No            No   \n",
       "1        No          No          No             No          No            No   \n",
       "2        No          No          No             No          No            No   \n",
       "3        No          No          No             No          No            No   \n",
       "4        No          No          No             No          No            No   \n",
       "\n",
       "  glipizide glyburide tolbutamide pioglitazone rosiglitazone acarbose  \\\n",
       "0        No        No          No           No            No       No   \n",
       "1        No        No          No           No            No       No   \n",
       "2    Steady        No          No           No            No       No   \n",
       "3        No        No          No           No            No       No   \n",
       "4    Steady        No          No           No            No       No   \n",
       "\n",
       "  miglitol troglitazone tolazamide glyburide-metformin glipizide-metformin  \\\n",
       "0       No           No         No                  No                  No   \n",
       "1       No           No         No                  No                  No   \n",
       "2       No           No         No                  No                  No   \n",
       "3       No           No         No                  No                  No   \n",
       "4       No           No         No                  No                  No   \n",
       "\n",
       "  glimepiride-pioglitazone metformin-rosiglitazone metformin-pioglitazone  \\\n",
       "0                       No                      No                     No   \n",
       "1                       No                      No                     No   \n",
       "2                       No                      No                     No   \n",
       "3                       No                      No                     No   \n",
       "4                       No                      No                     No   \n",
       "\n",
       "  insulin  Steady  No  Up  Down  \n",
       "0      No       0  21   0     0  \n",
       "1      Up       0  20   1     0  \n",
       "2      No       1  20   0     0  \n",
       "3      Up       0  20   1     0  \n",
       "4  Steady       2  19   0     0  "
      ]
     },
     "execution_count": 33,
     "metadata": {},
     "output_type": "execute_result"
    }
   ],
   "source": [
    "df = df.apply(med_count, axis = 1)\n",
    "df.head()"
   ]
  },
  {
   "cell_type": "markdown",
   "id": "cce3049c",
   "metadata": {},
   "source": [
    "- Now we have only 4 columns which will give us the count of \"No\", \"Up\", \"Down\" and \"Steady\" row wise from each medicine summary column. Let's check the brief summary for these columns."
   ]
  },
  {
   "cell_type": "code",
   "execution_count": 34,
   "id": "f154c326",
   "metadata": {},
   "outputs": [
    {
     "data": {
      "text/html": [
       "<div>\n",
       "<style scoped>\n",
       "    .dataframe tbody tr th:only-of-type {\n",
       "        vertical-align: middle;\n",
       "    }\n",
       "\n",
       "    .dataframe tbody tr th {\n",
       "        vertical-align: top;\n",
       "    }\n",
       "\n",
       "    .dataframe thead th {\n",
       "        text-align: right;\n",
       "    }\n",
       "</style>\n",
       "<table border=\"1\" class=\"dataframe\">\n",
       "  <thead>\n",
       "    <tr style=\"text-align: right;\">\n",
       "      <th></th>\n",
       "      <th>Steady</th>\n",
       "      <th>Up</th>\n",
       "      <th>Down</th>\n",
       "      <th>No</th>\n",
       "    </tr>\n",
       "  </thead>\n",
       "  <tbody>\n",
       "    <tr>\n",
       "      <th>count</th>\n",
       "      <td>100766.000000</td>\n",
       "      <td>100766.000000</td>\n",
       "      <td>100766.000000</td>\n",
       "      <td>100766.000000</td>\n",
       "    </tr>\n",
       "    <tr>\n",
       "      <th>mean</th>\n",
       "      <td>0.892345</td>\n",
       "      <td>0.145585</td>\n",
       "      <td>0.141466</td>\n",
       "      <td>19.820604</td>\n",
       "    </tr>\n",
       "    <tr>\n",
       "      <th>std</th>\n",
       "      <td>0.897087</td>\n",
       "      <td>0.370503</td>\n",
       "      <td>0.356499</td>\n",
       "      <td>0.920585</td>\n",
       "    </tr>\n",
       "    <tr>\n",
       "      <th>min</th>\n",
       "      <td>0.000000</td>\n",
       "      <td>0.000000</td>\n",
       "      <td>0.000000</td>\n",
       "      <td>15.000000</td>\n",
       "    </tr>\n",
       "    <tr>\n",
       "      <th>25%</th>\n",
       "      <td>0.000000</td>\n",
       "      <td>0.000000</td>\n",
       "      <td>0.000000</td>\n",
       "      <td>19.000000</td>\n",
       "    </tr>\n",
       "    <tr>\n",
       "      <th>50%</th>\n",
       "      <td>1.000000</td>\n",
       "      <td>0.000000</td>\n",
       "      <td>0.000000</td>\n",
       "      <td>20.000000</td>\n",
       "    </tr>\n",
       "    <tr>\n",
       "      <th>75%</th>\n",
       "      <td>1.000000</td>\n",
       "      <td>0.000000</td>\n",
       "      <td>0.000000</td>\n",
       "      <td>20.000000</td>\n",
       "    </tr>\n",
       "    <tr>\n",
       "      <th>max</th>\n",
       "      <td>6.000000</td>\n",
       "      <td>3.000000</td>\n",
       "      <td>3.000000</td>\n",
       "      <td>21.000000</td>\n",
       "    </tr>\n",
       "  </tbody>\n",
       "</table>\n",
       "</div>"
      ],
      "text/plain": [
       "              Steady             Up           Down             No\n",
       "count  100766.000000  100766.000000  100766.000000  100766.000000\n",
       "mean        0.892345       0.145585       0.141466      19.820604\n",
       "std         0.897087       0.370503       0.356499       0.920585\n",
       "min         0.000000       0.000000       0.000000      15.000000\n",
       "25%         0.000000       0.000000       0.000000      19.000000\n",
       "50%         1.000000       0.000000       0.000000      20.000000\n",
       "75%         1.000000       0.000000       0.000000      20.000000\n",
       "max         6.000000       3.000000       3.000000      21.000000"
      ]
     },
     "execution_count": 34,
     "metadata": {},
     "output_type": "execute_result"
    }
   ],
   "source": [
    "df[['Steady', 'Up', \"Down\", 'No']].describe()"
   ]
  },
  {
   "cell_type": "code",
   "execution_count": 35,
   "id": "6ad0aed8",
   "metadata": {},
   "outputs": [
    {
     "name": "stdout",
     "output_type": "stream",
     "text": [
      "Steady [0 1 2 3 4 5 6] \n",
      "\n",
      "Up [0 1 2 3] \n",
      "\n",
      "Down [0 1 2 3] \n",
      "\n",
      "No [21 20 19 18 17 16 15] \n",
      "\n"
     ]
    }
   ],
   "source": [
    "for i in df[['Steady', 'Up', \"Down\", 'No']].columns:\n",
    "    print(i, df[i].unique(), \"\\n\")"
   ]
  },
  {
   "cell_type": "markdown",
   "id": "4d9ee8cb",
   "metadata": {},
   "source": [
    "- We will now add these columns to are existing dataset and replace these values with 0 and 1 respectivly where 0 will represent the missing value of attribute and 1 will represent the presence of attribute and drop the medicine column from dataset."
   ]
  },
  {
   "cell_type": "code",
   "execution_count": 36,
   "id": "2aaa8a5f",
   "metadata": {},
   "outputs": [],
   "source": [
    "count_col = df[['Steady', 'Up', \"Down\", 'No']]\n",
    "traindata = pd.concat([traindata,count_col], axis = 1)"
   ]
  },
  {
   "cell_type": "code",
   "execution_count": 37,
   "id": "d4bc6fea",
   "metadata": {},
   "outputs": [
    {
     "name": "stdout",
     "output_type": "stream",
     "text": [
      "Steady [0 1] \n",
      "\n",
      "Up [0 1] \n",
      "\n",
      "Down [0 1] \n",
      "\n",
      "No [1] \n",
      "\n"
     ]
    }
   ],
   "source": [
    "traindata['Steady'] = traindata['Steady'].replace(2, 1).replace(3, 1).replace(4, 1).replace(5, 1).replace(6, 1)\n",
    "traindata['Up'] = traindata['Up'].replace(2, 1).replace(3, 1)\n",
    "traindata['Down'] = traindata['Down'].replace(2, 1).replace(3, 1)\n",
    "traindata['No'] = traindata['No'].replace(21, 1).replace(20, 1).replace(19, 1).replace(18, 1).replace(17, 1).replace(16, 1).replace(15, 1)\n",
    "\n",
    "for i in traindata[['Steady', 'Up', \"Down\", 'No']].columns:\n",
    "    print(i, traindata[i].unique(), \"\\n\")"
   ]
  },
  {
   "cell_type": "code",
   "execution_count": 38,
   "id": "8b396b36",
   "metadata": {},
   "outputs": [
    {
     "name": "stdout",
     "output_type": "stream",
     "text": [
      "Shape of \u001b[1mTrain Data\u001b[0m is 100766 rows and 24 columns.\n"
     ]
    },
    {
     "data": {
      "text/html": [
       "<div>\n",
       "<style scoped>\n",
       "    .dataframe tbody tr th:only-of-type {\n",
       "        vertical-align: middle;\n",
       "    }\n",
       "\n",
       "    .dataframe tbody tr th {\n",
       "        vertical-align: top;\n",
       "    }\n",
       "\n",
       "    .dataframe thead th {\n",
       "        text-align: right;\n",
       "    }\n",
       "</style>\n",
       "<table border=\"1\" class=\"dataframe\">\n",
       "  <thead>\n",
       "    <tr style=\"text-align: right;\">\n",
       "      <th></th>\n",
       "      <th>patient_nbr</th>\n",
       "      <th>race</th>\n",
       "      <th>gender</th>\n",
       "      <th>age</th>\n",
       "      <th>admission_type_id</th>\n",
       "      <th>discharge_disposition_id</th>\n",
       "      <th>admission_source_id</th>\n",
       "      <th>time_in_hospital</th>\n",
       "      <th>num_lab_procedures</th>\n",
       "      <th>num_procedures</th>\n",
       "      <th>num_medications</th>\n",
       "      <th>number_emergency</th>\n",
       "      <th>number_diagnoses</th>\n",
       "      <th>max_glu_serum</th>\n",
       "      <th>A1Cresult</th>\n",
       "      <th>change</th>\n",
       "      <th>diabetesMed</th>\n",
       "      <th>readmitted</th>\n",
       "      <th>count</th>\n",
       "      <th>number_patients</th>\n",
       "      <th>Steady</th>\n",
       "      <th>Up</th>\n",
       "      <th>Down</th>\n",
       "      <th>No</th>\n",
       "    </tr>\n",
       "  </thead>\n",
       "  <tbody>\n",
       "    <tr>\n",
       "      <th>0</th>\n",
       "      <td>8222157</td>\n",
       "      <td>Caucasian</td>\n",
       "      <td>Female</td>\n",
       "      <td>5</td>\n",
       "      <td>Not Available</td>\n",
       "      <td>Other</td>\n",
       "      <td>Referral</td>\n",
       "      <td>1</td>\n",
       "      <td>41</td>\n",
       "      <td>0</td>\n",
       "      <td>1</td>\n",
       "      <td>0</td>\n",
       "      <td>1</td>\n",
       "      <td>None</td>\n",
       "      <td>None</td>\n",
       "      <td>No</td>\n",
       "      <td>No</td>\n",
       "      <td>0</td>\n",
       "      <td>1</td>\n",
       "      <td>0</td>\n",
       "      <td>0</td>\n",
       "      <td>0</td>\n",
       "      <td>0</td>\n",
       "      <td>1</td>\n",
       "    </tr>\n",
       "    <tr>\n",
       "      <th>1</th>\n",
       "      <td>55629189</td>\n",
       "      <td>Caucasian</td>\n",
       "      <td>Female</td>\n",
       "      <td>15</td>\n",
       "      <td>Emergency</td>\n",
       "      <td>Discharged to home</td>\n",
       "      <td>Emergency Room</td>\n",
       "      <td>3</td>\n",
       "      <td>59</td>\n",
       "      <td>0</td>\n",
       "      <td>18</td>\n",
       "      <td>0</td>\n",
       "      <td>9</td>\n",
       "      <td>None</td>\n",
       "      <td>None</td>\n",
       "      <td>Ch</td>\n",
       "      <td>Yes</td>\n",
       "      <td>1</td>\n",
       "      <td>1</td>\n",
       "      <td>0</td>\n",
       "      <td>0</td>\n",
       "      <td>1</td>\n",
       "      <td>0</td>\n",
       "      <td>1</td>\n",
       "    </tr>\n",
       "  </tbody>\n",
       "</table>\n",
       "</div>"
      ],
      "text/plain": [
       "   patient_nbr       race  gender  age admission_type_id  \\\n",
       "0      8222157  Caucasian  Female    5     Not Available   \n",
       "1     55629189  Caucasian  Female   15         Emergency   \n",
       "\n",
       "  discharge_disposition_id admission_source_id  time_in_hospital  \\\n",
       "0                    Other            Referral                 1   \n",
       "1       Discharged to home      Emergency Room                 3   \n",
       "\n",
       "   num_lab_procedures  num_procedures  num_medications  number_emergency  \\\n",
       "0                  41               0                1                 0   \n",
       "1                  59               0               18                 0   \n",
       "\n",
       "   number_diagnoses max_glu_serum A1Cresult change diabetesMed  readmitted  \\\n",
       "0                 1          None      None     No          No           0   \n",
       "1                 9          None      None     Ch         Yes           1   \n",
       "\n",
       "   count  number_patients  Steady  Up  Down  No  \n",
       "0      1                0       0   0     0   1  \n",
       "1      1                0       0   1     0   1  "
      ]
     },
     "execution_count": 38,
     "metadata": {},
     "output_type": "execute_result"
    }
   ],
   "source": [
    "traindata.drop(['metformin','repaglinide', 'nateglinide', 'chlorpropamide', 'glimepiride','acetohexamide', 'glipizide', \n",
    "                'glyburide', 'tolbutamide','pioglitazone', 'rosiglitazone', 'acarbose', 'miglitol', 'troglitazone',\n",
    "                'tolazamide', 'glyburide-metformin', 'glipizide-metformin','glimepiride-pioglitazone',\n",
    "                'metformin-rosiglitazone','metformin-pioglitazone', \"insulin\"], axis = 1, inplace = True)\n",
    "\n",
    "print(\"Shape of \\033[1mTrain Data\\033[0m is {} rows and {} columns.\".format(*traindata.shape))\n",
    "traindata.head(2)"
   ]
  },
  {
   "cell_type": "markdown",
   "id": "fed8486f",
   "metadata": {},
   "source": [
    "- Now, we see the No column become univariate so, we will drop this column as no information can be drawn from this columns."
   ]
  },
  {
   "cell_type": "code",
   "execution_count": 39,
   "id": "d871a408",
   "metadata": {},
   "outputs": [
    {
     "name": "stdout",
     "output_type": "stream",
     "text": [
      "Shape of \u001b[1mTrain Data\u001b[0m is 100766 rows and 23 columns.\n"
     ]
    }
   ],
   "source": [
    "traindata.drop('No', axis = 1, inplace = True)\n",
    "print(\"Shape of \\033[1mTrain Data\\033[0m is {} rows and {} columns.\".format(*traindata.shape))"
   ]
  },
  {
   "cell_type": "markdown",
   "id": "fd0f27fa",
   "metadata": {},
   "source": [
    "<b>Now let's check for Change and DiabetesMed columns</b>"
   ]
  },
  {
   "cell_type": "code",
   "execution_count": 40,
   "id": "8d059002",
   "metadata": {},
   "outputs": [
    {
     "name": "stdout",
     "output_type": "stream",
     "text": [
      "Unique values in Change columns are ['No' 'Ch']\n",
      "Unique values in DiabetesMed columns are ['No' 'Yes']\n"
     ]
    }
   ],
   "source": [
    "print(\"Unique values in Change columns are {}\".format(traindata['change'].unique()))\n",
    "print(\"Unique values in DiabetesMed columns are {}\".format(traindata['diabetesMed'].unique()))"
   ]
  },
  {
   "cell_type": "markdown",
   "id": "4d9556c4",
   "metadata": {},
   "source": [
    "<b>Replace the values \"No\" with 0 and \"Ch\" and & \"Yes\" with 1</b>"
   ]
  },
  {
   "cell_type": "code",
   "execution_count": 41,
   "id": "33be5358",
   "metadata": {},
   "outputs": [
    {
     "name": "stdout",
     "output_type": "stream",
     "text": [
      "Unique values in Change columns are [0 1]\n",
      "Unique values in DiabetesMed columns are [0 1]\n"
     ]
    }
   ],
   "source": [
    "traindata['change'] = traindata['change'].replace(\"No\", 0).replace(\"Ch\", 1)\n",
    "traindata['diabetesMed'] = traindata['diabetesMed'].replace(\"No\", 0).replace(\"Yes\", 1)\n",
    "\n",
    "print(\"Unique values in Change columns are {}\".format(traindata['change'].unique()))\n",
    "print(\"Unique values in DiabetesMed columns are {}\".format(traindata['diabetesMed'].unique()))"
   ]
  },
  {
   "cell_type": "markdown",
   "id": "87f12b1c",
   "metadata": {},
   "source": [
    "<b>Now, we will handle the columns \"max_glu_serum\", \"A1Cresult\".</b>"
   ]
  },
  {
   "cell_type": "code",
   "execution_count": 42,
   "id": "542073d2",
   "metadata": {},
   "outputs": [
    {
     "name": "stdout",
     "output_type": "stream",
     "text": [
      "Unique values is max_glu_serum column are ['None' '>300' 'Norm' '>200']\n",
      "\n",
      "Unique values is A1Cresult column are ['None' '>7' '>8' 'Norm']\n",
      "\n"
     ]
    }
   ],
   "source": [
    "l = ['max_glu_serum', 'A1Cresult']\n",
    "for i in l:\n",
    "    print(\"Unique values is {} column are {}\\n\".format(i, traindata[i].unique()))"
   ]
  },
  {
   "cell_type": "code",
   "execution_count": 43,
   "id": "c1fc88ba",
   "metadata": {},
   "outputs": [
    {
     "data": {
      "text/html": [
       "<div>\n",
       "<style scoped>\n",
       "    .dataframe tbody tr th:only-of-type {\n",
       "        vertical-align: middle;\n",
       "    }\n",
       "\n",
       "    .dataframe tbody tr th {\n",
       "        vertical-align: top;\n",
       "    }\n",
       "\n",
       "    .dataframe thead th {\n",
       "        text-align: right;\n",
       "    }\n",
       "</style>\n",
       "<table border=\"1\" class=\"dataframe\">\n",
       "  <thead>\n",
       "    <tr style=\"text-align: right;\">\n",
       "      <th>max_glu_serum</th>\n",
       "      <th>&gt;200</th>\n",
       "      <th>&gt;300</th>\n",
       "      <th>None</th>\n",
       "      <th>Norm</th>\n",
       "    </tr>\n",
       "    <tr>\n",
       "      <th>A1Cresult</th>\n",
       "      <th></th>\n",
       "      <th></th>\n",
       "      <th></th>\n",
       "      <th></th>\n",
       "    </tr>\n",
       "  </thead>\n",
       "  <tbody>\n",
       "    <tr>\n",
       "      <th>&gt;7</th>\n",
       "      <td>18</td>\n",
       "      <td>15</td>\n",
       "      <td>3702</td>\n",
       "      <td>30</td>\n",
       "    </tr>\n",
       "    <tr>\n",
       "      <th>&gt;8</th>\n",
       "      <td>36</td>\n",
       "      <td>110</td>\n",
       "      <td>7965</td>\n",
       "      <td>29</td>\n",
       "    </tr>\n",
       "    <tr>\n",
       "      <th>None</th>\n",
       "      <td>1412</td>\n",
       "      <td>1133</td>\n",
       "      <td>78882</td>\n",
       "      <td>2495</td>\n",
       "    </tr>\n",
       "    <tr>\n",
       "      <th>Norm</th>\n",
       "      <td>17</td>\n",
       "      <td>2</td>\n",
       "      <td>4881</td>\n",
       "      <td>39</td>\n",
       "    </tr>\n",
       "  </tbody>\n",
       "</table>\n",
       "</div>"
      ],
      "text/plain": [
       "max_glu_serum  >200  >300   None  Norm\n",
       "A1Cresult                             \n",
       ">7               18    15   3702    30\n",
       ">8               36   110   7965    29\n",
       "None           1412  1133  78882  2495\n",
       "Norm             17     2   4881    39"
      ]
     },
     "execution_count": 43,
     "metadata": {},
     "output_type": "execute_result"
    }
   ],
   "source": [
    "pd.crosstab(traindata[\"A1Cresult\"],  traindata[\"max_glu_serum\"])"
   ]
  },
  {
   "cell_type": "markdown",
   "id": "c7ef3ff9",
   "metadata": {},
   "source": [
    "- We will replace \">7 & >8\" can be categorised as one category and \">200 & >300\" as one category and we will replace these values with 1, \"None\" with 0 and \"Norm\" with 2."
   ]
  },
  {
   "cell_type": "code",
   "execution_count": 44,
   "id": "8a0cb8da",
   "metadata": {},
   "outputs": [],
   "source": [
    "traindata['A1Cresult'] = traindata['A1Cresult'].replace(\">7\", 1).replace(\">8\", 1).replace(\"None\", 0).replace(\"Norm\", 2)\n",
    "traindata['max_glu_serum'] = traindata['max_glu_serum'].replace(\">200\", 1).replace(\">300\", 1).replace(\"None\", 0).replace(\"Norm\", 2)"
   ]
  },
  {
   "cell_type": "code",
   "execution_count": 45,
   "id": "88c464f8",
   "metadata": {},
   "outputs": [
    {
     "name": "stdout",
     "output_type": "stream",
     "text": [
      "Unique values is max_glu_serum column are [0 1 2]\n",
      "\n",
      "Unique values is A1Cresult column are [0 1 2]\n",
      "\n"
     ]
    }
   ],
   "source": [
    "l = ['max_glu_serum', 'A1Cresult']\n",
    "for i in l:\n",
    "    print(\"Unique values is {} column are {}\\n\".format(i,  traindata[i].unique()))"
   ]
  },
  {
   "cell_type": "markdown",
   "id": "e46a62e9",
   "metadata": {},
   "source": [
    "<b>Let's now check for final dataset which we will be using for further EDA using Data Visusalisation.</b>"
   ]
  },
  {
   "cell_type": "code",
   "execution_count": 46,
   "id": "fc202828",
   "metadata": {},
   "outputs": [
    {
     "data": {
      "text/html": [
       "<div>\n",
       "<style scoped>\n",
       "    .dataframe tbody tr th:only-of-type {\n",
       "        vertical-align: middle;\n",
       "    }\n",
       "\n",
       "    .dataframe tbody tr th {\n",
       "        vertical-align: top;\n",
       "    }\n",
       "\n",
       "    .dataframe thead th {\n",
       "        text-align: right;\n",
       "    }\n",
       "</style>\n",
       "<table border=\"1\" class=\"dataframe\">\n",
       "  <thead>\n",
       "    <tr style=\"text-align: right;\">\n",
       "      <th></th>\n",
       "      <th>patient_nbr</th>\n",
       "      <th>race</th>\n",
       "      <th>gender</th>\n",
       "      <th>age</th>\n",
       "      <th>admission_type_id</th>\n",
       "      <th>discharge_disposition_id</th>\n",
       "      <th>admission_source_id</th>\n",
       "      <th>time_in_hospital</th>\n",
       "      <th>num_lab_procedures</th>\n",
       "      <th>num_procedures</th>\n",
       "      <th>num_medications</th>\n",
       "      <th>number_emergency</th>\n",
       "      <th>number_diagnoses</th>\n",
       "      <th>max_glu_serum</th>\n",
       "      <th>A1Cresult</th>\n",
       "      <th>change</th>\n",
       "      <th>diabetesMed</th>\n",
       "      <th>readmitted</th>\n",
       "      <th>count</th>\n",
       "      <th>number_patients</th>\n",
       "      <th>Steady</th>\n",
       "      <th>Up</th>\n",
       "      <th>Down</th>\n",
       "    </tr>\n",
       "  </thead>\n",
       "  <tbody>\n",
       "    <tr>\n",
       "      <th>0</th>\n",
       "      <td>8222157</td>\n",
       "      <td>Caucasian</td>\n",
       "      <td>Female</td>\n",
       "      <td>5</td>\n",
       "      <td>Not Available</td>\n",
       "      <td>Other</td>\n",
       "      <td>Referral</td>\n",
       "      <td>1</td>\n",
       "      <td>41</td>\n",
       "      <td>0</td>\n",
       "      <td>1</td>\n",
       "      <td>0</td>\n",
       "      <td>1</td>\n",
       "      <td>0</td>\n",
       "      <td>0</td>\n",
       "      <td>0</td>\n",
       "      <td>0</td>\n",
       "      <td>0</td>\n",
       "      <td>1</td>\n",
       "      <td>0</td>\n",
       "      <td>0</td>\n",
       "      <td>0</td>\n",
       "      <td>0</td>\n",
       "    </tr>\n",
       "    <tr>\n",
       "      <th>1</th>\n",
       "      <td>55629189</td>\n",
       "      <td>Caucasian</td>\n",
       "      <td>Female</td>\n",
       "      <td>15</td>\n",
       "      <td>Emergency</td>\n",
       "      <td>Discharged to home</td>\n",
       "      <td>Emergency Room</td>\n",
       "      <td>3</td>\n",
       "      <td>59</td>\n",
       "      <td>0</td>\n",
       "      <td>18</td>\n",
       "      <td>0</td>\n",
       "      <td>9</td>\n",
       "      <td>0</td>\n",
       "      <td>0</td>\n",
       "      <td>1</td>\n",
       "      <td>1</td>\n",
       "      <td>1</td>\n",
       "      <td>1</td>\n",
       "      <td>0</td>\n",
       "      <td>0</td>\n",
       "      <td>1</td>\n",
       "      <td>0</td>\n",
       "    </tr>\n",
       "    <tr>\n",
       "      <th>2</th>\n",
       "      <td>86047875</td>\n",
       "      <td>AfricanAmerican</td>\n",
       "      <td>Female</td>\n",
       "      <td>25</td>\n",
       "      <td>Emergency</td>\n",
       "      <td>Discharged to home</td>\n",
       "      <td>Emergency Room</td>\n",
       "      <td>2</td>\n",
       "      <td>11</td>\n",
       "      <td>5</td>\n",
       "      <td>13</td>\n",
       "      <td>0</td>\n",
       "      <td>6</td>\n",
       "      <td>0</td>\n",
       "      <td>0</td>\n",
       "      <td>0</td>\n",
       "      <td>1</td>\n",
       "      <td>0</td>\n",
       "      <td>1</td>\n",
       "      <td>3</td>\n",
       "      <td>1</td>\n",
       "      <td>0</td>\n",
       "      <td>0</td>\n",
       "    </tr>\n",
       "    <tr>\n",
       "      <th>3</th>\n",
       "      <td>82442376</td>\n",
       "      <td>Caucasian</td>\n",
       "      <td>Male</td>\n",
       "      <td>35</td>\n",
       "      <td>Emergency</td>\n",
       "      <td>Discharged to home</td>\n",
       "      <td>Emergency Room</td>\n",
       "      <td>2</td>\n",
       "      <td>44</td>\n",
       "      <td>1</td>\n",
       "      <td>16</td>\n",
       "      <td>0</td>\n",
       "      <td>7</td>\n",
       "      <td>0</td>\n",
       "      <td>0</td>\n",
       "      <td>1</td>\n",
       "      <td>1</td>\n",
       "      <td>0</td>\n",
       "      <td>1</td>\n",
       "      <td>0</td>\n",
       "      <td>0</td>\n",
       "      <td>1</td>\n",
       "      <td>0</td>\n",
       "    </tr>\n",
       "    <tr>\n",
       "      <th>4</th>\n",
       "      <td>42519267</td>\n",
       "      <td>Caucasian</td>\n",
       "      <td>Male</td>\n",
       "      <td>45</td>\n",
       "      <td>Emergency</td>\n",
       "      <td>Discharged to home</td>\n",
       "      <td>Emergency Room</td>\n",
       "      <td>1</td>\n",
       "      <td>51</td>\n",
       "      <td>0</td>\n",
       "      <td>8</td>\n",
       "      <td>0</td>\n",
       "      <td>5</td>\n",
       "      <td>0</td>\n",
       "      <td>0</td>\n",
       "      <td>1</td>\n",
       "      <td>1</td>\n",
       "      <td>0</td>\n",
       "      <td>1</td>\n",
       "      <td>0</td>\n",
       "      <td>1</td>\n",
       "      <td>0</td>\n",
       "      <td>0</td>\n",
       "    </tr>\n",
       "  </tbody>\n",
       "</table>\n",
       "</div>"
      ],
      "text/plain": [
       "   patient_nbr             race  gender  age admission_type_id  \\\n",
       "0      8222157        Caucasian  Female    5     Not Available   \n",
       "1     55629189        Caucasian  Female   15         Emergency   \n",
       "2     86047875  AfricanAmerican  Female   25         Emergency   \n",
       "3     82442376        Caucasian    Male   35         Emergency   \n",
       "4     42519267        Caucasian    Male   45         Emergency   \n",
       "\n",
       "  discharge_disposition_id admission_source_id  time_in_hospital  \\\n",
       "0                    Other            Referral                 1   \n",
       "1       Discharged to home      Emergency Room                 3   \n",
       "2       Discharged to home      Emergency Room                 2   \n",
       "3       Discharged to home      Emergency Room                 2   \n",
       "4       Discharged to home      Emergency Room                 1   \n",
       "\n",
       "   num_lab_procedures  num_procedures  num_medications  number_emergency  \\\n",
       "0                  41               0                1                 0   \n",
       "1                  59               0               18                 0   \n",
       "2                  11               5               13                 0   \n",
       "3                  44               1               16                 0   \n",
       "4                  51               0                8                 0   \n",
       "\n",
       "   number_diagnoses  max_glu_serum  A1Cresult  change  diabetesMed  \\\n",
       "0                 1              0          0       0            0   \n",
       "1                 9              0          0       1            1   \n",
       "2                 6              0          0       0            1   \n",
       "3                 7              0          0       1            1   \n",
       "4                 5              0          0       1            1   \n",
       "\n",
       "   readmitted  count  number_patients  Steady  Up  Down  \n",
       "0           0      1                0       0   0     0  \n",
       "1           1      1                0       0   1     0  \n",
       "2           0      1                3       1   0     0  \n",
       "3           0      1                0       0   1     0  \n",
       "4           0      1                0       1   0     0  "
      ]
     },
     "execution_count": 46,
     "metadata": {},
     "output_type": "execute_result"
    }
   ],
   "source": [
    "traindata.head()"
   ]
  },
  {
   "cell_type": "markdown",
   "id": "355b4644",
   "metadata": {},
   "source": [
    "### Data Visualisation\n",
    "\n",
    "<b>Gender</b>"
   ]
  },
  {
   "cell_type": "code",
   "execution_count": 47,
   "id": "81676bd8",
   "metadata": {},
   "outputs": [
    {
     "name": "stdout",
     "output_type": "stream",
     "text": [
      "Value Count of Gender are:\n",
      " Female             54173\n",
      "Male               46590\n",
      "Unknown/Invalid        3\n",
      "Name: gender, dtype: int64\n"
     ]
    },
    {
     "data": {
      "image/png": "[encoded data removed]",
      "text/plain": [
       "<Figure size 864x360 with 2 Axes>"
      ]
     },
     "metadata": {
      "needs_background": "light"
     },
     "output_type": "display_data"
    }
   ],
   "source": [
    "fig, ax =plt.subplots(nrows=1,ncols=2, figsize=(12,5))\n",
    "label = ['Female', 'Male', \"Unknown\"]\n",
    "sns.countplot(x = traindata.gender, palette=\"gist_rainbow\", ax = ax[0], edgecolor=\"0.3\")\n",
    "traindata.gender.value_counts().plot.pie(autopct = \"%1.2f%%\", ax = ax[1], colors = [\"#66a3ff\", \"#facc99\", \"#0a0a00\"], labels = label,\n",
    "                                        explode = (0, 0.05, 0.05), startangle = 120, textprops = {'fontsize': 12, \"color\": \"#0a0a00\"})\n",
    "print(\"Value Count of Gender are:\\n\", traindata['gender'].value_counts())"
   ]
  },
  {
   "cell_type": "markdown",
   "id": "1deac21c",
   "metadata": {},
   "source": [
    "- There are only 3 Unknown gender count and count of Female patients is more than male patients which represents females are having higher chances of getting diabetes.  "
   ]
  },
  {
   "cell_type": "markdown",
   "id": "e9c030f1",
   "metadata": {},
   "source": [
    "<b>Gender with Age, Race, and Readmission</b>"
   ]
  },
  {
   "cell_type": "code",
   "execution_count": 48,
   "id": "c9d0a0d4",
   "metadata": {},
   "outputs": [
    {
     "data": {
      "image/png": "[encoded data removed]",
      "text/plain": [
       "<Figure size 1728x576 with 3 Axes>"
      ]
     },
     "metadata": {
      "needs_background": "light"
     },
     "output_type": "display_data"
    }
   ],
   "source": [
    "visual_list = ['readmitted','age','race']\n",
    "fig, ax =plt.subplots(nrows=1,ncols=3,figsize=(24,8))\n",
    "count =0\n",
    "for i in visual_list:\n",
    "    sns.countplot(traindata[i], hue=traindata.gender, palette='gist_rainbow_r', ax=ax[count]);\n",
    "    count = count+1"
   ]
  },
  {
   "cell_type": "markdown",
   "id": "37e32397",
   "metadata": {},
   "source": [
    "- This visualisation clearly represnts the females have higher chances of readmission.\n",
    "- Also, in both age and race category, female count is more than male."
   ]
  },
  {
   "cell_type": "code",
   "execution_count": 49,
   "id": "d4ab2627",
   "metadata": {},
   "outputs": [
    {
     "data": {
      "image/png": "[encoded data removed]",
      "text/plain": [
       "<Figure size 1728x576 with 3 Axes>"
      ]
     },
     "metadata": {
      "needs_background": "light"
     },
     "output_type": "display_data"
    }
   ],
   "source": [
    "visual_list = [\"admission_type_id\", \"discharge_disposition_id\", \"admission_source_id\"]\n",
    "fig, ax =plt.subplots(nrows=1,ncols=3,figsize=(24,8))\n",
    "count =0\n",
    "for i in visual_list:\n",
    "    sns.countplot(traindata[i], hue=traindata.readmitted, palette='gist_rainbow_r', ax=ax[count]);\n",
    "    count = count+1"
   ]
  },
  {
   "cell_type": "code",
   "execution_count": 50,
   "id": "fd612866",
   "metadata": {},
   "outputs": [
    {
     "data": {
      "image/png": "[encoded data removed]",
      "text/plain": [
       "<Figure size 1728x576 with 3 Axes>"
      ]
     },
     "metadata": {
      "needs_background": "light"
     },
     "output_type": "display_data"
    }
   ],
   "source": [
    "visual_list = [\"admission_type_id\", \"discharge_disposition_id\", \"admission_source_id\"]\n",
    "fig, ax =plt.subplots(nrows=1,ncols=3,figsize=(24,8))\n",
    "count =0\n",
    "for i in visual_list:\n",
    "    sns.countplot(traindata[i], hue=traindata.gender, palette='gist_rainbow_r', ax=ax[count]);\n",
    "    count = count+1"
   ]
  },
  {
   "cell_type": "code",
   "execution_count": 51,
   "id": "8f382515",
   "metadata": {},
   "outputs": [
    {
     "data": {
      "image/png": "[encoded data removed]",
      "text/plain": [
       "<Figure size 1728x576 with 3 Axes>"
      ]
     },
     "metadata": {
      "needs_background": "light"
     },
     "output_type": "display_data"
    }
   ],
   "source": [
    "visual_list = [\"Steady\", \"Up\", \"Down\"]\n",
    "fig, ax =plt.subplots(nrows=1,ncols=3,figsize=(24,8))\n",
    "count =0\n",
    "for i in visual_list:\n",
    "    sns.countplot(traindata[i], hue=traindata.readmitted, palette='gist_rainbow', ax=ax[count]);\n",
    "    count = count+1 "
   ]
  },
  {
   "cell_type": "code",
   "execution_count": 52,
   "id": "6fdd23b5",
   "metadata": {
    "scrolled": true
   },
   "outputs": [
    {
     "data": {
      "text/html": [
       "<div>\n",
       "<style scoped>\n",
       "    .dataframe tbody tr th:only-of-type {\n",
       "        vertical-align: middle;\n",
       "    }\n",
       "\n",
       "    .dataframe tbody tr th {\n",
       "        vertical-align: top;\n",
       "    }\n",
       "\n",
       "    .dataframe thead th {\n",
       "        text-align: right;\n",
       "    }\n",
       "</style>\n",
       "<table border=\"1\" class=\"dataframe\">\n",
       "  <thead>\n",
       "    <tr style=\"text-align: right;\">\n",
       "      <th></th>\n",
       "      <th>patient_nbr</th>\n",
       "      <th>race</th>\n",
       "      <th>gender</th>\n",
       "      <th>age</th>\n",
       "      <th>admission_type_id</th>\n",
       "      <th>discharge_disposition_id</th>\n",
       "      <th>admission_source_id</th>\n",
       "      <th>time_in_hospital</th>\n",
       "      <th>num_lab_procedures</th>\n",
       "      <th>num_procedures</th>\n",
       "      <th>num_medications</th>\n",
       "      <th>number_emergency</th>\n",
       "      <th>number_diagnoses</th>\n",
       "      <th>max_glu_serum</th>\n",
       "      <th>A1Cresult</th>\n",
       "      <th>change</th>\n",
       "      <th>diabetesMed</th>\n",
       "      <th>readmitted</th>\n",
       "      <th>count</th>\n",
       "      <th>number_patients</th>\n",
       "      <th>Steady</th>\n",
       "      <th>Up</th>\n",
       "      <th>Down</th>\n",
       "    </tr>\n",
       "  </thead>\n",
       "  <tbody>\n",
       "    <tr>\n",
       "      <th>0</th>\n",
       "      <td>8222157</td>\n",
       "      <td>Caucasian</td>\n",
       "      <td>Female</td>\n",
       "      <td>5</td>\n",
       "      <td>Not Available</td>\n",
       "      <td>Other</td>\n",
       "      <td>Referral</td>\n",
       "      <td>1</td>\n",
       "      <td>41</td>\n",
       "      <td>0</td>\n",
       "      <td>1</td>\n",
       "      <td>0</td>\n",
       "      <td>1</td>\n",
       "      <td>0</td>\n",
       "      <td>0</td>\n",
       "      <td>0</td>\n",
       "      <td>0</td>\n",
       "      <td>0</td>\n",
       "      <td>1</td>\n",
       "      <td>0</td>\n",
       "      <td>0</td>\n",
       "      <td>0</td>\n",
       "      <td>0</td>\n",
       "    </tr>\n",
       "    <tr>\n",
       "      <th>1</th>\n",
       "      <td>55629189</td>\n",
       "      <td>Caucasian</td>\n",
       "      <td>Female</td>\n",
       "      <td>15</td>\n",
       "      <td>Emergency</td>\n",
       "      <td>Discharged to home</td>\n",
       "      <td>Emergency Room</td>\n",
       "      <td>3</td>\n",
       "      <td>59</td>\n",
       "      <td>0</td>\n",
       "      <td>18</td>\n",
       "      <td>0</td>\n",
       "      <td>9</td>\n",
       "      <td>0</td>\n",
       "      <td>0</td>\n",
       "      <td>1</td>\n",
       "      <td>1</td>\n",
       "      <td>1</td>\n",
       "      <td>1</td>\n",
       "      <td>0</td>\n",
       "      <td>0</td>\n",
       "      <td>1</td>\n",
       "      <td>0</td>\n",
       "    </tr>\n",
       "  </tbody>\n",
       "</table>\n",
       "</div>"
      ],
      "text/plain": [
       "   patient_nbr       race  gender  age admission_type_id  \\\n",
       "0      8222157  Caucasian  Female    5     Not Available   \n",
       "1     55629189  Caucasian  Female   15         Emergency   \n",
       "\n",
       "  discharge_disposition_id admission_source_id  time_in_hospital  \\\n",
       "0                    Other            Referral                 1   \n",
       "1       Discharged to home      Emergency Room                 3   \n",
       "\n",
       "   num_lab_procedures  num_procedures  num_medications  number_emergency  \\\n",
       "0                  41               0                1                 0   \n",
       "1                  59               0               18                 0   \n",
       "\n",
       "   number_diagnoses  max_glu_serum  A1Cresult  change  diabetesMed  \\\n",
       "0                 1              0          0       0            0   \n",
       "1                 9              0          0       1            1   \n",
       "\n",
       "   readmitted  count  number_patients  Steady  Up  Down  \n",
       "0           0      1                0       0   0     0  \n",
       "1           1      1                0       0   1     0  "
      ]
     },
     "execution_count": 52,
     "metadata": {},
     "output_type": "execute_result"
    }
   ],
   "source": [
    "traindata.head(2)"
   ]
  },
  {
   "cell_type": "code",
   "execution_count": 53,
   "id": "e0d7839a",
   "metadata": {},
   "outputs": [
    {
     "data": {
      "text/plain": [
       "<seaborn.axisgrid.FacetGrid at 0x184aa391a60>"
      ]
     },
     "execution_count": 53,
     "metadata": {},
     "output_type": "execute_result"
    },
    {
     "data": {
      "image/png": "[encoded data removed]",
      "text/plain": [
       "<Figure size 1143.25x360 with 1 Axes>"
      ]
     },
     "metadata": {
      "needs_background": "light"
     },
     "output_type": "display_data"
    }
   ],
   "source": [
    "facet= sns.FacetGrid(traindata, hue='readmitted',size=5,aspect=3,palette='gnuplot')\n",
    "facet.map(plt.hist,'age',bins=30,alpha=0.5)\n",
    "facet.set(xlim=(0,traindata['age'].max()+10))\n",
    "facet.add_legend()"
   ]
  },
  {
   "cell_type": "code",
   "execution_count": 54,
   "id": "9360dd95",
   "metadata": {},
   "outputs": [
    {
     "data": {
      "text/plain": [
       "<seaborn.axisgrid.FacetGrid at 0x184ac7f1ac0>"
      ]
     },
     "execution_count": 54,
     "metadata": {},
     "output_type": "execute_result"
    },
    {
     "data": {
      "image/png": "[encoded data removed]",
      "text/plain": [
       "<Figure size 1143.25x360 with 1 Axes>"
      ]
     },
     "metadata": {
      "needs_background": "light"
     },
     "output_type": "display_data"
    }
   ],
   "source": [
    "facet= sns.FacetGrid(traindata, hue='readmitted',size=5,aspect=3,palette='gnuplot')\n",
    "facet.map(plt.hist,'num_lab_procedures',bins=30,alpha=0.5)\n",
    "facet.set(xlim=(0,traindata['num_lab_procedures'].max()+10))\n",
    "facet.add_legend()"
   ]
  },
  {
   "cell_type": "code",
   "execution_count": 55,
   "id": "0a05f160",
   "metadata": {},
   "outputs": [
    {
     "data": {
      "image/png": "[encoded data removed]",
      "text/plain": [
       "<Figure size 720x360 with 1 Axes>"
      ]
     },
     "metadata": {
      "needs_background": "light"
     },
     "output_type": "display_data"
    }
   ],
   "source": [
    "fig = plt.figure(figsize=(10,5))\n",
    "\n",
    "#readmitted = 0\n",
    "ax = sns.kdeplot(traindata.loc[(traindata.readmitted == 0), \"time_in_hospital\"],\n",
    "                 color = \"b\", shade = True, label = \"Not Readmitted\")\n",
    "#readmitted = 1\n",
    "ax = sns.kdeplot(traindata.loc[(traindata.readmitted == 1), \"time_in_hospital\"],\n",
    "                 color = \"r\", shade = True, label = \"Readmitted\")\n",
    "ax.legend(loc=\"upper right\")\n",
    "\n",
    "ax.set_xlabel(\"Time in Hospital\")\n",
    "ax.set_ylabel(\"Frequency\")\n",
    "ax.set_title(\"Time in Hospital - Readmission\")\n",
    "plt.show()"
   ]
  },
  {
   "cell_type": "code",
   "execution_count": 56,
   "id": "70310156",
   "metadata": {},
   "outputs": [
    {
     "data": {
      "image/png": "[encoded data removed]",
      "text/plain": [
       "<Figure size 1440x360 with 2 Axes>"
      ]
     },
     "metadata": {
      "needs_background": "light"
     },
     "output_type": "display_data"
    }
   ],
   "source": [
    "plt.figure(figsize=(20,5))\n",
    "plt.subplot(121)\n",
    "sns.countplot(x = \"A1Cresult\", data = traindata)\n",
    "plt.subplot(122)\n",
    "sns.countplot(x = \"A1Cresult\",hue = \"readmitted\", data = traindata)\n",
    "plt.show()"
   ]
  },
  {
   "cell_type": "code",
   "execution_count": 57,
   "id": "899f489e",
   "metadata": {},
   "outputs": [
    {
     "data": {
      "image/png": "[encoded data removed]",
      "text/plain": [
       "<Figure size 1440x360 with 2 Axes>"
      ]
     },
     "metadata": {
      "needs_background": "light"
     },
     "output_type": "display_data"
    }
   ],
   "source": [
    "plt.figure(figsize=(20,5))\n",
    "plt.subplot(121)\n",
    "sns.countplot(x = \"diabetesMed\", data = traindata)\n",
    "plt.subplot(122)\n",
    "sns.countplot(x = \"diabetesMed\",hue = \"readmitted\", data = traindata)\n",
    "plt.show()"
   ]
  },
  {
   "cell_type": "code",
   "execution_count": 58,
   "id": "3c8e5623",
   "metadata": {},
   "outputs": [
    {
     "data": {
      "image/png": "[encoded data removed]",
      "text/plain": [
       "<Figure size 1440x720 with 6 Axes>"
      ]
     },
     "metadata": {
      "needs_background": "light"
     },
     "output_type": "display_data"
    }
   ],
   "source": [
    "plt.figure(figsize=(20,10))\n",
    "plt.subplot(321)\n",
    "sns.countplot(x = \"Steady\", data = traindata)\n",
    "plt.subplot(322)\n",
    "sns.countplot(x = \"Steady\",hue = \"readmitted\", data = traindata)\n",
    "plt.subplot(323)\n",
    "sns.countplot(x = \"Up\", data = traindata)\n",
    "plt.subplot(324)\n",
    "sns.countplot(x = \"Up\",hue = \"readmitted\", data = traindata)\n",
    "plt.subplot(325)\n",
    "sns.countplot(x = \"Down\", data = traindata)\n",
    "plt.subplot(326)\n",
    "sns.countplot(x = \"Down\",hue = \"readmitted\", data = traindata)\n",
    "plt.show()"
   ]
  },
  {
   "cell_type": "markdown",
   "id": "e912d6dc",
   "metadata": {},
   "source": [
    "### Missing Value Treatment\n",
    "\n",
    "The feature variable \"?\" consist of data pattern like Asian however, as of now we will impute the missing values \"Other\" to create a new category for the race and create a copy of dataset and impute the \"?\" with \"Asian\" for model comparison."
   ]
  },
  {
   "cell_type": "code",
   "execution_count": 59,
   "id": "9ac1ac91",
   "metadata": {
    "scrolled": true
   },
   "outputs": [
    {
     "data": {
      "text/plain": [
       "array(['Caucasian', 'AfricanAmerican', 'Other', 'Asian', 'Hispanic'],\n",
       "      dtype=object)"
      ]
     },
     "execution_count": 59,
     "metadata": {},
     "output_type": "execute_result"
    }
   ],
   "source": [
    "traindata['race'] = traindata['race'].replace(\"?\", \"Other\")\n",
    "traindata['race'].unique()"
   ]
  },
  {
   "cell_type": "code",
   "execution_count": 60,
   "id": "f9e681f8",
   "metadata": {},
   "outputs": [],
   "source": [
    "df = traindata.copy()"
   ]
  },
  {
   "cell_type": "code",
   "execution_count": 61,
   "id": "726b73fd",
   "metadata": {},
   "outputs": [
    {
     "data": {
      "text/html": [
       "<div>\n",
       "<style scoped>\n",
       "    .dataframe tbody tr th:only-of-type {\n",
       "        vertical-align: middle;\n",
       "    }\n",
       "\n",
       "    .dataframe tbody tr th {\n",
       "        vertical-align: top;\n",
       "    }\n",
       "\n",
       "    .dataframe thead th {\n",
       "        text-align: right;\n",
       "    }\n",
       "</style>\n",
       "<table border=\"1\" class=\"dataframe\">\n",
       "  <thead>\n",
       "    <tr style=\"text-align: right;\">\n",
       "      <th></th>\n",
       "      <th>patient_nbr</th>\n",
       "      <th>race</th>\n",
       "      <th>gender</th>\n",
       "      <th>age</th>\n",
       "      <th>admission_type_id</th>\n",
       "      <th>discharge_disposition_id</th>\n",
       "      <th>admission_source_id</th>\n",
       "      <th>time_in_hospital</th>\n",
       "      <th>num_lab_procedures</th>\n",
       "      <th>num_procedures</th>\n",
       "      <th>num_medications</th>\n",
       "      <th>number_emergency</th>\n",
       "      <th>number_diagnoses</th>\n",
       "      <th>max_glu_serum</th>\n",
       "      <th>A1Cresult</th>\n",
       "      <th>change</th>\n",
       "      <th>diabetesMed</th>\n",
       "      <th>readmitted</th>\n",
       "      <th>count</th>\n",
       "      <th>number_patients</th>\n",
       "      <th>Steady</th>\n",
       "      <th>Up</th>\n",
       "      <th>Down</th>\n",
       "    </tr>\n",
       "  </thead>\n",
       "  <tbody>\n",
       "    <tr>\n",
       "      <th>0</th>\n",
       "      <td>8222157</td>\n",
       "      <td>Caucasian</td>\n",
       "      <td>Female</td>\n",
       "      <td>5</td>\n",
       "      <td>Not Available</td>\n",
       "      <td>Other</td>\n",
       "      <td>Referral</td>\n",
       "      <td>1</td>\n",
       "      <td>41</td>\n",
       "      <td>0</td>\n",
       "      <td>1</td>\n",
       "      <td>0</td>\n",
       "      <td>1</td>\n",
       "      <td>0</td>\n",
       "      <td>0</td>\n",
       "      <td>0</td>\n",
       "      <td>0</td>\n",
       "      <td>0</td>\n",
       "      <td>1</td>\n",
       "      <td>0</td>\n",
       "      <td>0</td>\n",
       "      <td>0</td>\n",
       "      <td>0</td>\n",
       "    </tr>\n",
       "    <tr>\n",
       "      <th>1</th>\n",
       "      <td>55629189</td>\n",
       "      <td>Caucasian</td>\n",
       "      <td>Female</td>\n",
       "      <td>15</td>\n",
       "      <td>Emergency</td>\n",
       "      <td>Discharged to home</td>\n",
       "      <td>Emergency Room</td>\n",
       "      <td>3</td>\n",
       "      <td>59</td>\n",
       "      <td>0</td>\n",
       "      <td>18</td>\n",
       "      <td>0</td>\n",
       "      <td>9</td>\n",
       "      <td>0</td>\n",
       "      <td>0</td>\n",
       "      <td>1</td>\n",
       "      <td>1</td>\n",
       "      <td>1</td>\n",
       "      <td>1</td>\n",
       "      <td>0</td>\n",
       "      <td>0</td>\n",
       "      <td>1</td>\n",
       "      <td>0</td>\n",
       "    </tr>\n",
       "    <tr>\n",
       "      <th>2</th>\n",
       "      <td>86047875</td>\n",
       "      <td>AfricanAmerican</td>\n",
       "      <td>Female</td>\n",
       "      <td>25</td>\n",
       "      <td>Emergency</td>\n",
       "      <td>Discharged to home</td>\n",
       "      <td>Emergency Room</td>\n",
       "      <td>2</td>\n",
       "      <td>11</td>\n",
       "      <td>5</td>\n",
       "      <td>13</td>\n",
       "      <td>0</td>\n",
       "      <td>6</td>\n",
       "      <td>0</td>\n",
       "      <td>0</td>\n",
       "      <td>0</td>\n",
       "      <td>1</td>\n",
       "      <td>0</td>\n",
       "      <td>1</td>\n",
       "      <td>3</td>\n",
       "      <td>1</td>\n",
       "      <td>0</td>\n",
       "      <td>0</td>\n",
       "    </tr>\n",
       "    <tr>\n",
       "      <th>3</th>\n",
       "      <td>82442376</td>\n",
       "      <td>Caucasian</td>\n",
       "      <td>Male</td>\n",
       "      <td>35</td>\n",
       "      <td>Emergency</td>\n",
       "      <td>Discharged to home</td>\n",
       "      <td>Emergency Room</td>\n",
       "      <td>2</td>\n",
       "      <td>44</td>\n",
       "      <td>1</td>\n",
       "      <td>16</td>\n",
       "      <td>0</td>\n",
       "      <td>7</td>\n",
       "      <td>0</td>\n",
       "      <td>0</td>\n",
       "      <td>1</td>\n",
       "      <td>1</td>\n",
       "      <td>0</td>\n",
       "      <td>1</td>\n",
       "      <td>0</td>\n",
       "      <td>0</td>\n",
       "      <td>1</td>\n",
       "      <td>0</td>\n",
       "    </tr>\n",
       "    <tr>\n",
       "      <th>4</th>\n",
       "      <td>42519267</td>\n",
       "      <td>Caucasian</td>\n",
       "      <td>Male</td>\n",
       "      <td>45</td>\n",
       "      <td>Emergency</td>\n",
       "      <td>Discharged to home</td>\n",
       "      <td>Emergency Room</td>\n",
       "      <td>1</td>\n",
       "      <td>51</td>\n",
       "      <td>0</td>\n",
       "      <td>8</td>\n",
       "      <td>0</td>\n",
       "      <td>5</td>\n",
       "      <td>0</td>\n",
       "      <td>0</td>\n",
       "      <td>1</td>\n",
       "      <td>1</td>\n",
       "      <td>0</td>\n",
       "      <td>1</td>\n",
       "      <td>0</td>\n",
       "      <td>1</td>\n",
       "      <td>0</td>\n",
       "      <td>0</td>\n",
       "    </tr>\n",
       "  </tbody>\n",
       "</table>\n",
       "</div>"
      ],
      "text/plain": [
       "   patient_nbr             race  gender  age admission_type_id  \\\n",
       "0      8222157        Caucasian  Female    5     Not Available   \n",
       "1     55629189        Caucasian  Female   15         Emergency   \n",
       "2     86047875  AfricanAmerican  Female   25         Emergency   \n",
       "3     82442376        Caucasian    Male   35         Emergency   \n",
       "4     42519267        Caucasian    Male   45         Emergency   \n",
       "\n",
       "  discharge_disposition_id admission_source_id  time_in_hospital  \\\n",
       "0                    Other            Referral                 1   \n",
       "1       Discharged to home      Emergency Room                 3   \n",
       "2       Discharged to home      Emergency Room                 2   \n",
       "3       Discharged to home      Emergency Room                 2   \n",
       "4       Discharged to home      Emergency Room                 1   \n",
       "\n",
       "   num_lab_procedures  num_procedures  num_medications  number_emergency  \\\n",
       "0                  41               0                1                 0   \n",
       "1                  59               0               18                 0   \n",
       "2                  11               5               13                 0   \n",
       "3                  44               1               16                 0   \n",
       "4                  51               0                8                 0   \n",
       "\n",
       "   number_diagnoses  max_glu_serum  A1Cresult  change  diabetesMed  \\\n",
       "0                 1              0          0       0            0   \n",
       "1                 9              0          0       1            1   \n",
       "2                 6              0          0       0            1   \n",
       "3                 7              0          0       1            1   \n",
       "4                 5              0          0       1            1   \n",
       "\n",
       "   readmitted  count  number_patients  Steady  Up  Down  \n",
       "0           0      1                0       0   0     0  \n",
       "1           1      1                0       0   1     0  \n",
       "2           0      1                3       1   0     0  \n",
       "3           0      1                0       0   1     0  \n",
       "4           0      1                0       1   0     0  "
      ]
     },
     "execution_count": 61,
     "metadata": {},
     "output_type": "execute_result"
    }
   ],
   "source": [
    "df.head()"
   ]
  },
  {
   "cell_type": "code",
   "execution_count": 62,
   "id": "daaec2b3",
   "metadata": {},
   "outputs": [],
   "source": [
    "df.drop(['patient_nbr'],axis=1,inplace=True)"
   ]
  },
  {
   "cell_type": "code",
   "execution_count": 66,
   "id": "62e77957",
   "metadata": {},
   "outputs": [],
   "source": [
    "from sklearn.compose import ColumnTransformer\n",
    "from sklearn.impute import SimpleImputer\n",
    "from sklearn.linear_model import LogisticRegression\n",
    "from sklearn.preprocessing import OneHotEncoder\n",
    "from sklearn.pipeline import Pipeline,make_pipeline\n",
    "from sklearn.feature_selection import SelectKBest,chi2\n",
    "from sklearn.model_selection import train_test_split"
   ]
  },
  {
   "cell_type": "code",
   "execution_count": 67,
   "id": "33db7a27",
   "metadata": {},
   "outputs": [],
   "source": [
    "X_train,X_test,y_train,y_test = train_test_split(df.drop(columns=['readmitted']),\n",
    "                                                 df['readmitted'],\n",
    "                                                 test_size=0.3,\n",
    "                                                random_state=8)"
   ]
  },
  {
   "cell_type": "code",
   "execution_count": 68,
   "id": "0baa5b44",
   "metadata": {},
   "outputs": [],
   "source": [
    "trf1 = ColumnTransformer([\n",
    "    ('cat_col',OneHotEncoder(sparse=False,handle_unknown='ignore'),[0,1,3,4,5])\n",
    "],remainder='passthrough')"
   ]
  },
  {
   "cell_type": "code",
   "execution_count": 69,
   "id": "65e5ff16",
   "metadata": {},
   "outputs": [],
   "source": [
    "trf2 = LogisticRegression()"
   ]
  },
  {
   "cell_type": "code",
   "execution_count": 70,
   "id": "e61a0a69",
   "metadata": {},
   "outputs": [],
   "source": [
    "pipe = Pipeline([\n",
    "    ('trf1',trf1),\n",
    "    ('trf2',trf2)\n",
    "])"
   ]
  },
  {
   "cell_type": "code",
   "execution_count": 71,
   "id": "45a455ab",
   "metadata": {},
   "outputs": [
    {
     "data": {
      "text/plain": [
       "(70536, 21)"
      ]
     },
     "execution_count": 71,
     "metadata": {},
     "output_type": "execute_result"
    }
   ],
   "source": [
    "X_train.shape"
   ]
  },
  {
   "cell_type": "code",
   "execution_count": 72,
   "id": "f3225741",
   "metadata": {},
   "outputs": [
    {
     "data": {
      "text/plain": [
       "Pipeline(steps=[('trf1',\n",
       "                 ColumnTransformer(remainder='passthrough',\n",
       "                                   transformers=[('cat_col',\n",
       "                                                  OneHotEncoder(handle_unknown='ignore',\n",
       "                                                                sparse=False),\n",
       "                                                  [0, 1, 3, 4, 5])])),\n",
       "                ('trf2', LogisticRegression())])"
      ]
     },
     "execution_count": 72,
     "metadata": {},
     "output_type": "execute_result"
    }
   ],
   "source": [
    "pipe.fit(X_train,y_train)"
   ]
  },
  {
   "cell_type": "code",
   "execution_count": 73,
   "id": "53a8f41e",
   "metadata": {},
   "outputs": [],
   "source": [
    "y_pred = pipe.predict(X_test)"
   ]
  },
  {
   "cell_type": "code",
   "execution_count": 74,
   "id": "009bc4aa",
   "metadata": {},
   "outputs": [
    {
     "data": {
      "text/plain": [
       "0.8062520674826331"
      ]
     },
     "execution_count": 74,
     "metadata": {},
     "output_type": "execute_result"
    }
   ],
   "source": [
    "from sklearn.metrics import accuracy_score\n",
    "accuracy_score(y_test,y_pred)"
   ]
  },
  {
   "cell_type": "code",
   "execution_count": 75,
   "id": "fb726204",
   "metadata": {},
   "outputs": [
    {
     "data": {
      "text/plain": [
       "0.7978479527112128"
      ]
     },
     "execution_count": 75,
     "metadata": {},
     "output_type": "execute_result"
    }
   ],
   "source": [
    "from sklearn.model_selection import cross_val_score\n",
    "cross_val_score(pipe, X_train, y_train, cv=5, scoring='accuracy').mean()"
   ]
  },
  {
   "cell_type": "code",
   "execution_count": 76,
   "id": "5626a2cc",
   "metadata": {},
   "outputs": [],
   "source": [
    "import pickle\n",
    "pickle.dump(pipe,open('pipe.pkl','wb'))\n",
    "pickle.dump(df,open('df.pkl','wb'))"
   ]
  },
  {
   "cell_type": "code",
   "execution_count": 77,
   "id": "9db2e419",
   "metadata": {},
   "outputs": [],
   "source": [
    "from sklearn.tree import DecisionTreeClassifier\n",
    "from sklearn.ensemble import RandomForestClassifier\n",
    "from xgboost import XGBClassifier"
   ]
  },
  {
   "cell_type": "code",
   "execution_count": 78,
   "id": "9609d811",
   "metadata": {},
   "outputs": [],
   "source": [
    "trf1 = ColumnTransformer([\n",
    "    ('cat_col',OneHotEncoder(sparse=False,handle_unknown='ignore'),[0,1,3,4,5])\n",
    "],remainder='passthrough')\n",
    "trf2 = DecisionTreeClassifier()\n",
    "pipe_dtc = Pipeline([\n",
    "    ('trf1',trf1),\n",
    "    ('trf2',trf2)\n",
    "])\n",
    "pipe.fit(X_train,y_train)\n",
    "y_pred = pipe.predict(X_test)\n",
    "accuracy_score(y_test,y_pred)\n",
    "pickle.dump(pipe,open('pipe_dtc.pkl','wb'))\n"
   ]
  },
  {
   "cell_type": "code",
   "execution_count": 79,
   "id": "77154921",
   "metadata": {},
   "outputs": [],
   "source": [
    "trf1 = ColumnTransformer([\n",
    "    ('cat_col',OneHotEncoder(sparse=False,handle_unknown='ignore'),[0,1,3,4,5])\n",
    "],remainder='passthrough')\n",
    "trf2 = RandomForestClassifier()\n",
    "pipe_rtc = Pipeline([\n",
    "    ('trf1',trf1),\n",
    "    ('trf2',trf2)\n",
    "])\n",
    "pipe.fit(X_train,y_train)\n",
    "y_pred = pipe.predict(X_test)\n",
    "accuracy_score(y_test,y_pred)\n",
    "pickle.dump(pipe,open('pipe_rtc.pkl','wb'))\n"
   ]
  },
  {
   "cell_type": "code",
   "execution_count": 80,
   "id": "704f94b5",
   "metadata": {},
   "outputs": [],
   "source": [
    "trf1 = ColumnTransformer([\n",
    "    ('cat_col',OneHotEncoder(sparse=False,handle_unknown='ignore'),[0,1,3,4,5])\n",
    "],remainder='passthrough')\n",
    "trf2 = XGBClassifier()\n",
    "pipe_xgb = Pipeline([\n",
    "    ('trf1',trf1),\n",
    "    ('trf2',trf2)\n",
    "])\n",
    "pipe.fit(X_train,y_train)\n",
    "y_pred = pipe.predict(X_test)\n",
    "accuracy_score(y_test,y_pred)\n",
    "pickle.dump(pipe,open('pipe_xgb.pkl','wb'))\n"
   ]
  },
  {
   "cell_type": "code",
   "execution_count": null,
   "id": "ad4786d0",
   "metadata": {},
   "outputs": [],
   "source": []
  },
  {
   "cell_type": "code",
   "execution_count": null,
   "id": "07af134a",
   "metadata": {},
   "outputs": [],
   "source": []
  },
  {
   "cell_type": "markdown",
   "id": "5225b6ba",
   "metadata": {},
   "source": [
    "# Old Method"
   ]
  },
  {
   "cell_type": "markdown",
   "id": "d606062f",
   "metadata": {},
   "source": [
    "### Feature Encoding\n",
    "\n",
    "We have 5 features which are categorical in nature. We will use get_dummies function to encode these features into dummy or indicator variables according to the categories provided."
   ]
  },
  {
   "cell_type": "raw",
   "id": "810f58fa",
   "metadata": {},
   "source": [
    "type_dummies = pd.get_dummies(traindata[['race', 'gender', \"admission_type_id\", \"discharge_disposition_id\", \"admission_source_id\"]])\n",
    "\n",
    "traindata = pd.concat([traindata,type_dummies],axis=1)\n",
    "traindata.head(2)"
   ]
  },
  {
   "cell_type": "markdown",
   "id": "2ab3dd52",
   "metadata": {},
   "source": [
    "- We have now converted the columns into dummies so, we no longer required the original columns hence, we will drop these columns along with patient_nbr column."
   ]
  },
  {
   "cell_type": "raw",
   "id": "0d7cf09f",
   "metadata": {
    "scrolled": true
   },
   "source": [
    "traindata.drop(['patient_nbr', 'race', 'gender', \"admission_type_id\", \"discharge_disposition_id\", \"admission_source_id\"], axis = 1, inplace = True)\n",
    "traindata.head()"
   ]
  },
  {
   "cell_type": "raw",
   "id": "29a3fd37",
   "metadata": {},
   "source": [
    "traindata.shape"
   ]
  },
  {
   "cell_type": "raw",
   "id": "ce42d62b",
   "metadata": {
    "scrolled": true
   },
   "source": [
    "traindata.age.unique()"
   ]
  },
  {
   "cell_type": "raw",
   "id": "adb7888b",
   "metadata": {},
   "source": [
    "traindata.rename(columns={'admission_type_id_Trauma Center': 'admission_type_id_TraumaCenter', 'gender_Unknown/Invalid':'gender_Unknown',\n",
    "                         'admission_type_id_New Born':'admission_type_id_NewBorn','admission_type_id_Not Available':'admission_type_id_NotAvailable',\n",
    "                        'discharge_disposition_id_Discharged to home':'discharge_disposition_id_Dischargedtohome',\n",
    "                         'admission_source_id_Emergency Room':'admission_source_id_EmergencyRoom','admission_source_id_New Born':'admission_source_id_NewBorn'},inplace=True)"
   ]
  },
  {
   "cell_type": "raw",
   "id": "d87ff661",
   "metadata": {
    "scrolled": true
   },
   "source": [
    "plt.figure(figsize=(30,20))\n",
    "sns.heatmap(traindata.corr(), annot=True, fmt='.2f', linecolor=\"white\", linewidths=0.3)"
   ]
  },
  {
   "cell_type": "raw",
   "id": "ad528fe2",
   "metadata": {},
   "source": [
    "!pip install xgboost"
   ]
  },
  {
   "cell_type": "raw",
   "id": "c38e7414",
   "metadata": {},
   "source": [
    "from sklearn.model_selection import train_test_split\n",
    "\n",
    "from sklearn.linear_model import LogisticRegression\n",
    "\n",
    "from sklearn.tree import DecisionTreeClassifier\n",
    "\n",
    "from sklearn.ensemble import ExtraTreesClassifier\n",
    "from sklearn.ensemble import RandomForestClassifier\n",
    "from xgboost import XGBClassifier\n",
    "\n",
    "from sklearn.metrics import accuracy_score, confusion_matrix"
   ]
  },
  {
   "cell_type": "raw",
   "id": "416152a6",
   "metadata": {},
   "source": [
    "X = traindata.drop('readmitted', axis = 1)\n",
    "y = traindata['readmitted']"
   ]
  },
  {
   "cell_type": "raw",
   "id": "0ef7cef7",
   "metadata": {},
   "source": [
    "X.head()"
   ]
  },
  {
   "cell_type": "markdown",
   "id": "1e78a028",
   "metadata": {},
   "source": [
    "<b>LogisticRegression</b>"
   ]
  },
  {
   "cell_type": "raw",
   "id": "7a42f9f4",
   "metadata": {},
   "source": [
    "def log_reg(X, y):\n",
    "    X_train, X_test, y_train, y_test = train_test_split(X, y, test_size=0.25)\n",
    "    lr = LogisticRegression()\n",
    "    lr.fit(X_train, y_train)\n",
    "    print(\"Accuracy Score for test LogisticRegression is {}\".format(accuracy_score(y_test, lr.predict(X_test))*100))\n",
    "    print(\"Confusion Matrix\\n\", sns.heatmap(confusion_matrix(y_test, lr.predict(X_test)), annot=True, fmt = \".0f\", \n",
    "                                            linecolor=\"white\", linewidths=0.3))"
   ]
  },
  {
   "cell_type": "raw",
   "id": "f2da683c",
   "metadata": {},
   "source": [
    " X_train, X_test, y_train, y_test = train_test_split(X, y, test_size=0.25)\n",
    "log = LogisticRegression()\n",
    "log.fit(X_train, y_train)\n",
    "print(\"Accuracy Score for test LogisticRegression is {}\".format(accuracy_score(y_test, log.predict(X_test))*100))"
   ]
  },
  {
   "cell_type": "raw",
   "id": "b6b670fe",
   "metadata": {},
   "source": [
    "import pickle \n",
    "pickle_out = open(\"log.pkl\", mode = \"wb\") \n",
    "pickle.dump(log, pickle_out) \n",
    "pickle_out.close()"
   ]
  },
  {
   "cell_type": "raw",
   "id": "edcee3eb",
   "metadata": {
    "scrolled": true
   },
   "source": [
    "log_reg(X,y)"
   ]
  },
  {
   "cell_type": "raw",
   "id": "fa35adbb",
   "metadata": {},
   "source": [
    "import pickle \n",
    "pickle_out = open(\"classifier.pkl\", mode = \"wb\") \n",
    "pickle.dump(log_reg, pickle_out) \n",
    "pickle_out.close()"
   ]
  },
  {
   "cell_type": "markdown",
   "id": "1f354b84",
   "metadata": {},
   "source": [
    "<b>DecisionTreeClassifier</b>"
   ]
  },
  {
   "cell_type": "raw",
   "id": "9488462b",
   "metadata": {},
   "source": [
    "def tree(X, y):\n",
    "    X_train, X_test, y_train, y_test = train_test_split(X, y, test_size=0.25)\n",
    "    tree = DecisionTreeClassifier(criterion='entropy', splitter='best', max_depth=5, min_samples_split=2, \n",
    "                                  min_samples_leaf=1, max_features=None)\n",
    "    tree.fit(X_train, y_train)\n",
    "    print(\"Accuracy Score for test DecisionTreeClassifier is {}\".format(accuracy_score(y_test, tree.predict(X_test))*100))\n",
    "    print(\"Confusion Matrix\\n\", sns.heatmap(confusion_matrix(y_test, tree.predict(X_test)), annot=True, fmt = \".0f\", \n",
    "                                            linecolor=\"white\", linewidths=0.3))"
   ]
  },
  {
   "cell_type": "raw",
   "id": "556aefae",
   "metadata": {},
   "source": [
    "tree(X, y)"
   ]
  },
  {
   "cell_type": "markdown",
   "id": "6e0ed43b",
   "metadata": {},
   "source": [
    "<b>RandomForestClassifier</b>"
   ]
  },
  {
   "cell_type": "raw",
   "id": "2ac74b54",
   "metadata": {},
   "source": [
    "def rfc(X, y):\n",
    "    X_train, X_test, y_train, y_test = train_test_split(X, y, test_size=0.25)\n",
    "    rfc = RandomForestClassifier(n_estimators=100, criterion='gini', max_depth=10, \n",
    "                                 min_samples_split=2, n_jobs=-1)\n",
    "    rfc.fit(X_train, y_train)\n",
    "    print(\"Accuracy Score for test RandomForestClassifier is {}\".format(accuracy_score(y_test, rfc.predict(X_test))*100))\n",
    "    print(\"Confusion Matrix\\n\", sns.heatmap(confusion_matrix(y_test, rfc.predict(X_test)), annot=True, fmt = \".0f\", \n",
    "                                            linecolor=\"white\", linewidths=0.3))"
   ]
  },
  {
   "cell_type": "raw",
   "id": "2ddf37cf",
   "metadata": {},
   "source": [
    "rfc(X,y)"
   ]
  },
  {
   "cell_type": "markdown",
   "id": "1364e611",
   "metadata": {},
   "source": [
    "<b>XGBClassifier</b>"
   ]
  },
  {
   "cell_type": "raw",
   "id": "0fcdb0b6",
   "metadata": {},
   "source": [
    "def xgb(X, y):\n",
    "    X_train, X_test, y_train, y_test = train_test_split(X, y, test_size=0.25)\n",
    "    xgb = XGBClassifier(objective=\"binary:logistic\", eval_metric = \"logloss\",learning_rate = 0.01)\n",
    "    xgb.fit(X_train, y_train)\n",
    "    print(\"Accuracy Score for test XGBClassifier is {}\".format(accuracy_score(y_test, xgb.predict(X_test))*100))\n",
    "    print(\"Confusion Matrix\\n\", sns.heatmap(confusion_matrix(y_test, xgb.predict(X_test)), annot=True, fmt = \".0f\", \n",
    "                                            linecolor=\"white\", linewidths=0.3))"
   ]
  },
  {
   "cell_type": "raw",
   "id": "6a4285ea",
   "metadata": {},
   "source": [
    "xgb(X,y)"
   ]
  },
  {
   "cell_type": "markdown",
   "id": "545083b2",
   "metadata": {},
   "source": [
    "<b>ExtraTreesClassifier</b>"
   ]
  },
  {
   "cell_type": "raw",
   "id": "0141c685",
   "metadata": {},
   "source": [
    "etc= ExtraTreesClassifier(n_estimators = 100, criterion ='entropy', max_features = 2)\n",
    "etc.fit(X, y)\n",
    "feature_importance = etc.feature_importances_\n",
    "feature_importance_normalized = np.std([tree.feature_importances_ for tree in etc.estimators_],axis = 0)"
   ]
  },
  {
   "cell_type": "raw",
   "id": "eeb3e529",
   "metadata": {
    "scrolled": true
   },
   "source": [
    "plt.figure(figsize=(20,10))\n",
    "plt.barh(X.columns.sort_values(), feature_importance_normalized)\n",
    "plt.xlabel('Feature Labels')\n",
    "plt.ylabel('Feature Importances')\n",
    "plt.title('Comparison of different Feature Importances')\n",
    "plt.show()"
   ]
  },
  {
   "cell_type": "code",
   "execution_count": null,
   "id": "50597942",
   "metadata": {},
   "outputs": [],
   "source": []
  },
  {
   "cell_type": "code",
   "execution_count": null,
   "id": "34bbc02c",
   "metadata": {},
   "outputs": [],
   "source": []
  }
 ],
 "metadata": {
  "kernelspec": {
   "display_name": "Python 3",
   "language": "python",
   "name": "python3"
  },
  "language_info": {
   "codemirror_mode": {
    "name": "ipython",
    "version": 3
   },
   "file_extension": ".py",
   "mimetype": "text/x-python",
   "name": "python",
   "nbconvert_exporter": "python",
   "pygments_lexer": "ipython3",
   "version": "3.8.8"
  }
 },
 "nbformat": 4,
 "nbformat_minor": 5
}
